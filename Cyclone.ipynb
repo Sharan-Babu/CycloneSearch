{
 "cells": [
  {
   "cell_type": "markdown",
   "id": "ad51e2f4-3d88-4a6b-8e42-c2a680bdeb24",
   "metadata": {},
   "source": [
    "#### Install necessary libraries\n",
    "%pip install scipy numpy keras tensorflow matplotlib"
   ]
  },
  {
   "cell_type": "markdown",
   "id": "f1521c2e-b350-4126-9d52-ad7243195f91",
   "metadata": {
    "tags": []
   },
   "source": [
    "# Train Model"
   ]
  },
  {
   "cell_type": "code",
   "execution_count": 2,
   "id": "23c1de8c-cd11-4864-865b-a93579bc669f",
   "metadata": {},
   "outputs": [
    {
     "name": "stderr",
     "output_type": "stream",
     "text": [
      "2022-01-27 12:46:13.887820: W tensorflow/stream_executor/platform/default/dso_loader.cc:64] Could not load dynamic library 'libcudart.so.11.0'; dlerror: libcudart.so.11.0: cannot open shared object file: No such file or directory\n",
      "2022-01-27 12:46:13.887850: I tensorflow/stream_executor/cuda/cudart_stub.cc:29] Ignore above cudart dlerror if you do not have a GPU set up on your machine.\n"
     ]
    }
   ],
   "source": [
    "# Import necessary libraries\n",
    "import os\n",
    "import numpy as np\n",
    "import matplotlib.pyplot as plt\n",
    "from keras.preprocessing.image import ImageDataGenerator\n",
    "from keras.layers import Input, Dense, Conv2D, MaxPooling2D, UpSampling2D\n",
    "from keras.models import Model\n",
    "from keras import backend as K"
   ]
  },
  {
   "cell_type": "code",
   "execution_count": 3,
   "id": "23a541d0-257b-46dd-994b-2c7e1bb0ab34",
   "metadata": {},
   "outputs": [
    {
     "name": "stdout",
     "output_type": "stream",
     "text": [
      "Found 104 images belonging to 1 classes.\n"
     ]
    }
   ],
   "source": [
    "# Load images\n",
    "datagen = ImageDataGenerator(rescale=1./255)\n",
    "train_generator = datagen.flow_from_directory(\n",
    "        'images/',\n",
    "        target_size=(252, 252),\n",
    "        batch_size=2,\n",
    "        class_mode=None)"
   ]
  },
  {
   "cell_type": "code",
   "execution_count": 4,
   "id": "b56dc303-52d1-40a7-a3b1-5f477e8ff701",
   "metadata": {},
   "outputs": [],
   "source": [
    "# Reshape images\n",
    "train_images = train_generator.next()\n",
    "train_images = train_images.reshape((252, 252, 3, -1))\n",
    "train_images = train_images.transpose(3, 0, 1, 2)"
   ]
  },
  {
   "cell_type": "code",
   "execution_count": 5,
   "id": "d5b9bb8a-8c2e-4f88-9e6a-68448af67e54",
   "metadata": {},
   "outputs": [
    {
     "name": "stderr",
     "output_type": "stream",
     "text": [
      "2022-01-27 12:46:55.431352: W tensorflow/stream_executor/platform/default/dso_loader.cc:64] Could not load dynamic library 'libcuda.so.1'; dlerror: libcuda.so.1: cannot open shared object file: No such file or directory\n",
      "2022-01-27 12:46:55.431389: W tensorflow/stream_executor/cuda/cuda_driver.cc:269] failed call to cuInit: UNKNOWN ERROR (303)\n",
      "2022-01-27 12:46:55.431416: I tensorflow/stream_executor/cuda/cuda_diagnostics.cc:156] kernel driver does not appear to be running on this host (default): /proc/driver/nvidia/version does not exist\n",
      "2022-01-27 12:46:55.431629: I tensorflow/core/platform/cpu_feature_guard.cc:151] This TensorFlow binary is optimized with oneAPI Deep Neural Network Library (oneDNN) to use the following CPU instructions in performance-critical operations:  AVX2 AVX512F FMA\n",
      "To enable them in other operations, rebuild TensorFlow with the appropriate compiler flags.\n"
     ]
    }
   ],
   "source": [
    "# Create encoder model\n",
    "input_img = Input(shape=(252, 252, 3))\n",
    "\n",
    "x = Conv2D(16, (3, 3), activation='relu', padding='same')(input_img)\n",
    "x = MaxPooling2D((2, 2), padding='same')(x)\n",
    "\n",
    "x = Conv2D(8, (3, 3), activation='relu', padding='same')(x)\n",
    "x = MaxPooling2D((2, 2), padding='same')(x)\n",
    "x = Conv2D(8, (3, 3), activation='relu', padding='same')(x)\n",
    "encoded = MaxPooling2D((2, 2), padding='same')(x)\n",
    "\n",
    "# Create decoder model\n",
    "x = Conv2D(8, (3, 3), activation='relu', padding='same')(encoded)\n",
    "x = UpSampling2D((2, 2))(x)\n",
    "x = Conv2D(8, (3, 3), activation='relu', padding='same')(x)\n",
    "x = UpSampling2D((2, 2))(x)\n",
    "x = Conv2D(16, (3, 3), activation='relu')(x)\n",
    "x = UpSampling2D((2, 2))(x)\n",
    "decoded = Conv2D(3, (3, 3), activation='sigmoid', padding='same')(x)\n",
    "\n",
    "# Create autoencoder model\n",
    "autoencoder = Model(input_img, decoded)\n",
    "autoencoder.compile(optimizer='adam', loss='binary_crossentropy')"
   ]
  },
  {
   "cell_type": "code",
   "execution_count": 6,
   "id": "93435fe7-affc-407c-9cea-ef587d2b5e2e",
   "metadata": {
    "tags": []
   },
   "outputs": [
    {
     "name": "stdout",
     "output_type": "stream",
     "text": [
      "Model: \"model\"\n",
      "_________________________________________________________________\n",
      " Layer (type)                Output Shape              Param #   \n",
      "=================================================================\n",
      " input_1 (InputLayer)        [(None, 252, 252, 3)]     0         \n",
      "                                                                 \n",
      " conv2d (Conv2D)             (None, 252, 252, 16)      448       \n",
      "                                                                 \n",
      " max_pooling2d (MaxPooling2D  (None, 126, 126, 16)     0         \n",
      " )                                                               \n",
      "                                                                 \n",
      " conv2d_1 (Conv2D)           (None, 126, 126, 8)       1160      \n",
      "                                                                 \n",
      " max_pooling2d_1 (MaxPooling  (None, 63, 63, 8)        0         \n",
      " 2D)                                                             \n",
      "                                                                 \n",
      " conv2d_2 (Conv2D)           (None, 63, 63, 8)         584       \n",
      "                                                                 \n",
      " max_pooling2d_2 (MaxPooling  (None, 32, 32, 8)        0         \n",
      " 2D)                                                             \n",
      "                                                                 \n",
      " conv2d_3 (Conv2D)           (None, 32, 32, 8)         584       \n",
      "                                                                 \n",
      " up_sampling2d (UpSampling2D  (None, 64, 64, 8)        0         \n",
      " )                                                               \n",
      "                                                                 \n",
      " conv2d_4 (Conv2D)           (None, 64, 64, 8)         584       \n",
      "                                                                 \n",
      " up_sampling2d_1 (UpSampling  (None, 128, 128, 8)      0         \n",
      " 2D)                                                             \n",
      "                                                                 \n",
      " conv2d_5 (Conv2D)           (None, 126, 126, 16)      1168      \n",
      "                                                                 \n",
      " up_sampling2d_2 (UpSampling  (None, 252, 252, 16)     0         \n",
      " 2D)                                                             \n",
      "                                                                 \n",
      " conv2d_6 (Conv2D)           (None, 252, 252, 3)       435       \n",
      "                                                                 \n",
      "=================================================================\n",
      "Total params: 4,963\n",
      "Trainable params: 4,963\n",
      "Non-trainable params: 0\n",
      "_________________________________________________________________\n"
     ]
    }
   ],
   "source": [
    "autoencoder.summary()"
   ]
  },
  {
   "cell_type": "code",
   "execution_count": 7,
   "id": "cc7df9a3-b03c-4d89-b076-34bcca127485",
   "metadata": {
    "tags": []
   },
   "outputs": [
    {
     "data": {
      "text/plain": [
       "<keras.callbacks.History at 0x7f8cd81be8e0>"
      ]
     },
     "execution_count": 7,
     "metadata": {},
     "output_type": "execute_result"
    }
   ],
   "source": [
    "# Train autoencoder\n",
    "autoencoder.fit(train_images, train_images, epochs=100, batch_size=20,verbose = 0)"
   ]
  },
  {
   "cell_type": "code",
   "execution_count": 8,
   "id": "2418fea4-4e3e-406e-ac64-076be36a53f8",
   "metadata": {},
   "outputs": [
    {
     "name": "stdout",
     "output_type": "stream",
     "text": [
      "WARNING:tensorflow:Compiled the loaded model, but the compiled metrics have yet to be built. `model.compile_metrics` will be empty until you train or evaluate the model.\n"
     ]
    }
   ],
   "source": [
    "# Save encoder model\n",
    "encoder = Model(input_img, encoded)\n",
    "encoder.save('encoder.h5')"
   ]
  },
  {
   "cell_type": "markdown",
   "id": "1a7730db-db32-4b0a-b9f7-c90630cab684",
   "metadata": {
    "tags": []
   },
   "source": [
    "# Use Model"
   ]
  },
  {
   "cell_type": "code",
   "execution_count": 3,
   "id": "e42149bd-b8b6-462e-810a-20b2c1260a08",
   "metadata": {},
   "outputs": [],
   "source": [
    "# Import libraries\n",
    "import os\n",
    "import numpy as np\n",
    "import matplotlib.pyplot as plt\n",
    "from keras.preprocessing.image import ImageDataGenerator\n",
    "from keras.layers import Input, Dense, Conv2D, MaxPooling2D, UpSampling2D\n",
    "from keras.models import Model\n",
    "from keras import backend as K"
   ]
  },
  {
   "cell_type": "code",
   "execution_count": 154,
   "id": "c12da1e1-a5f8-4a00-926d-a2c6df417aa4",
   "metadata": {
    "tags": []
   },
   "outputs": [
    {
     "name": "stdout",
     "output_type": "stream",
     "text": [
      "WARNING:tensorflow:No training configuration found in the save file, so the model was *not* compiled. Compile it manually.\n"
     ]
    }
   ],
   "source": [
    "# Now, for a given image, use the encoder model to produce embeddings\n",
    "import os\n",
    "embeddings_list = []\n",
    "cyclone_names = []\n",
    "\n",
    "# Load encoder model\n",
    "from keras.models import load_model\n",
    "encoder = load_model('encoder.h5')\n",
    "\n",
    "# Load image\n",
    "from keras.preprocessing.image import load_img\n",
    "for file in os.listdir('images/image_dataset/'):\n",
    "    if \".jpg\" in file:\n",
    "        image = load_img(f'images/image_dataset/{file}', target_size=(252, 252))\n",
    "\n",
    "        # Reshape image\n",
    "        image = np.array(image)\n",
    "        image = image.reshape((252, 252, 3, -1))\n",
    "        image = image.transpose(3, 0, 1, 2)\n",
    "\n",
    "        # Produce embedding\n",
    "        embedding = encoder.predict(image)\n",
    "        embeddings_list.append(embedding)\n",
    "        cyclone_names.append(file)\n",
    "\n",
    "#print(embedding)"
   ]
  },
  {
   "cell_type": "code",
   "execution_count": 155,
   "id": "231b8cc5-624f-4215-8839-ae9702f64469",
   "metadata": {},
   "outputs": [
    {
     "data": {
      "text/plain": [
       "32"
      ]
     },
     "execution_count": 155,
     "metadata": {},
     "output_type": "execute_result"
    }
   ],
   "source": [
    "# Length of each embedding vector is 32\n",
    "len(embedding[0])"
   ]
  },
  {
   "cell_type": "code",
   "execution_count": 156,
   "id": "337e8429-1c4c-4ced-bfde-1e05ef47b7ec",
   "metadata": {},
   "outputs": [],
   "source": [
    "def cosine_similarity(v1, v2):\n",
    "    return np.dot(v1, v2) / (np.linalg.norm(v1) * np.linalg.norm(v2))"
   ]
  },
  {
   "cell_type": "code",
   "execution_count": 157,
   "id": "c2928f8a-398e-4176-8cf5-b8932cb54eac",
   "metadata": {},
   "outputs": [
    {
     "name": "stdout",
     "output_type": "stream",
     "text": [
      "01b Cyclone\n"
     ]
    },
    {
     "data": {
      "image/jpeg": "[encoded data removed]",
      "text/plain": [
       "<IPython.core.display.Image object>"
      ]
     },
     "execution_count": 157,
     "metadata": {},
     "output_type": "execute_result"
    }
   ],
   "source": [
    "from IPython.display import Image\n",
    "# Select appropriate file\n",
    "print('01b Cyclone')\n",
    "Image(filename= f\"images/image_dataset/01b_2.jpg\")"
   ]
  },
  {
   "cell_type": "code",
   "execution_count": 158,
   "id": "5ef7686d-8c59-48a0-be7a-4f9d80dea7dc",
   "metadata": {},
   "outputs": [],
   "source": [
    "anchor_embedding = embeddings_list[0]\n",
    "sims = []\n",
    "for x in embeddings_list:\n",
    "    sims.append(cosine_similarity(anchor_embedding.flatten(),x.flatten()))"
   ]
  },
  {
   "cell_type": "code",
   "execution_count": 159,
   "id": "33e299a0-b1df-4dda-ab76-ea7d84973370",
   "metadata": {},
   "outputs": [],
   "source": [
    "top_k = cyclone_names[:]"
   ]
  },
  {
   "cell_type": "code",
   "execution_count": 160,
   "id": "bc378d23-c1d2-442d-a918-a3f33d8e05de",
   "metadata": {},
   "outputs": [],
   "source": [
    "new_sims = sims[:]\n",
    "new_sims.sort(reverse=True)"
   ]
  },
  {
   "cell_type": "code",
   "execution_count": 161,
   "id": "4781a04b-ead7-4683-9704-567b6a3a629c",
   "metadata": {},
   "outputs": [
    {
     "data": {
      "text/plain": [
       "[0.9707155, 0.9570878, 0.9564806, 0.9563422, 0.9562482]"
      ]
     },
     "execution_count": 161,
     "metadata": {},
     "output_type": "execute_result"
    }
   ],
   "source": [
    "new_sims[1:6]"
   ]
  },
  {
   "cell_type": "markdown",
   "id": "12d21a11-aff1-424c-a955-1fead8c0561d",
   "metadata": {
    "tags": []
   },
   "source": [
    "### Compare Similarity"
   ]
  },
  {
   "cell_type": "code",
   "execution_count": 162,
   "id": "dfb8db9a-4143-45cc-8ec3-b8a2693207a6",
   "metadata": {},
   "outputs": [],
   "source": [
    "name_list = []\n",
    "for x in new_sims[1:6]:\n",
    "    name_list.append(top_k[sims.index(x)])"
   ]
  },
  {
   "cell_type": "code",
   "execution_count": 163,
   "id": "f7a761f8-383a-406b-abb6-6bfe35eb1c58",
   "metadata": {},
   "outputs": [
    {
     "data": {
      "text/plain": [
       "['queensland.jpg', 'madi.jpg', 'ita.jpg', 'nargis.jpg', 'z4.jpg']"
      ]
     },
     "execution_count": 163,
     "metadata": {},
     "output_type": "execute_result"
    }
   ],
   "source": [
    "name_list"
   ]
  },
  {
   "cell_type": "code",
   "execution_count": 164,
   "id": "c24a2ad6-d69e-4e3e-82d3-96b2856edfd0",
   "metadata": {},
   "outputs": [
    {
     "name": "stdout",
     "output_type": "stream",
     "text": [
      "Queensland Cyclone\n"
     ]
    },
    {
     "data": {
      "image/jpeg": "[encoded data removed]",
      "text/plain": [
       "<IPython.core.display.Image object>"
      ]
     },
     "execution_count": 164,
     "metadata": {},
     "output_type": "execute_result"
    }
   ],
   "source": [
    "from IPython.display import Image\n",
    "# select cyclone from returned list of similar responses\n",
    "print(name_list[0].split('.')[0].capitalize() + \" Cyclone\")\n",
    "Image(filename= f\"images/image_dataset/{name_list[0]}\")"
   ]
  },
  {
   "cell_type": "markdown",
   "id": "c53dcb80-3d42-4d66-bef4-e72f1acc24e9",
   "metadata": {
    "tags": []
   },
   "source": [
    "# Cyclone Search and Compare"
   ]
  },
  {
   "cell_type": "code",
   "execution_count": 37,
   "id": "7be78191-e164-4e84-926a-9a1224fc613d",
   "metadata": {
    "collapsed": true,
    "jupyter": {
     "outputs_hidden": true
    },
    "tags": []
   },
   "outputs": [
    {
     "name": "stdout",
     "output_type": "stream",
     "text": [
      "Requirement already satisfied: bs4 in /home/studio-lab-user/.conda/envs/default/lib/python3.9/site-packages (0.0.1)\n",
      "Collecting wikipedia\n",
      "  Downloading wikipedia-1.4.0.tar.gz (27 kB)\n",
      "Requirement already satisfied: beautifulsoup4 in /home/studio-lab-user/.conda/envs/default/lib/python3.9/site-packages (from bs4) (4.10.0)\n",
      "Requirement already satisfied: requests<3.0.0,>=2.0.0 in /home/studio-lab-user/.conda/envs/default/lib/python3.9/site-packages (from wikipedia) (2.27.1)\n",
      "Requirement already satisfied: charset-normalizer~=2.0.0 in /home/studio-lab-user/.conda/envs/default/lib/python3.9/site-packages (from requests<3.0.0,>=2.0.0->wikipedia) (2.0.10)\n",
      "Requirement already satisfied: idna<4,>=2.5 in /home/studio-lab-user/.conda/envs/default/lib/python3.9/site-packages (from requests<3.0.0,>=2.0.0->wikipedia) (3.3)\n",
      "Requirement already satisfied: certifi>=2017.4.17 in /home/studio-lab-user/.conda/envs/default/lib/python3.9/site-packages (from requests<3.0.0,>=2.0.0->wikipedia) (2021.10.8)\n",
      "Requirement already satisfied: urllib3<1.27,>=1.21.1 in /home/studio-lab-user/.conda/envs/default/lib/python3.9/site-packages (from requests<3.0.0,>=2.0.0->wikipedia) (1.26.8)\n",
      "Requirement already satisfied: soupsieve>1.2 in /home/studio-lab-user/.conda/envs/default/lib/python3.9/site-packages (from beautifulsoup4->bs4) (2.3.1)\n",
      "Building wheels for collected packages: wikipedia\n",
      "  Building wheel for wikipedia (setup.py) ... \u001b[?25ldone\n",
      "\u001b[?25h  Created wheel for wikipedia: filename=wikipedia-1.4.0-py3-none-any.whl size=11696 sha256=32fee9dba0ca3f30c146d65ab2d48f606925ccb4d0574101212239d304b45b1b\n",
      "  Stored in directory: /home/studio-lab-user/.cache/pip/wheels/c2/46/f4/caa1bee71096d7b0cdca2f2a2af45cacf35c5760bee8f00948\n",
      "Successfully built wikipedia\n",
      "Installing collected packages: wikipedia\n",
      "Successfully installed wikipedia-1.4.0\n",
      "Note: you may need to restart the kernel to use updated packages.\n"
     ]
    }
   ],
   "source": [
    "%pip install bs4 wikipedia"
   ]
  },
  {
   "cell_type": "code",
   "execution_count": 39,
   "id": "ecf90e9f-3a3c-46bf-8de1-b62162b2ae0e",
   "metadata": {},
   "outputs": [],
   "source": [
    "import wikipedia"
   ]
  },
  {
   "cell_type": "code",
   "execution_count": 165,
   "id": "69b4afba-aa77-48b3-a6f6-355c83b3d0cd",
   "metadata": {},
   "outputs": [],
   "source": [
    "def cyclone_details(cyclone_name):\n",
    "    summary = wikipedia.summary(cyclone_name, sentences=10)\n",
    "    search_result = wikipedia.page(cyclone_name)\n",
    "    title = search_result.title\n",
    "    content = search_result.content\n",
    "    link = search_result.url\n",
    "    \n",
    "    print(title)\n",
    "    print(f\"Link: {link}\\n\")\n",
    "    print(\"SUMMARY:\")\n",
    "    print(summary)\n",
    "    print()\n",
    "    print(\"Full Content:\")\n",
    "    print(content)\n",
    "    return content"
   ]
  },
  {
   "cell_type": "code",
   "execution_count": 166,
   "id": "2606a527-a444-496e-ac7d-7829cede0614",
   "metadata": {
    "collapsed": true,
    "jupyter": {
     "outputs_hidden": true
    },
    "tags": []
   },
   "outputs": [
    {
     "name": "stdout",
     "output_type": "stream",
     "text": [
      "Cyclone Nargis\n",
      "Link: https://en.wikipedia.org/wiki/Cyclone_Nargis\n",
      "\n",
      "SUMMARY:\n",
      "Extremely Severe Cyclonic Storm Nargis (Urdu: نرگس [ˈnərɡɪs]) was an extremely destructive and deadly tropical cyclone that caused the worst natural disaster in the recorded history of Myanmar during early May 2008. The cyclone made landfall in Myanmar on Friday, 2 May 2008, sending a storm surge 40 kilometres up the densely populated Irrawaddy delta, causing catastrophic destruction and at least 138,373 fatalities. The Labutta Township alone was reported to have 80,000 dead, with about 10,000 more deaths in Bogale. There were around 55,000 people missing and many other deaths were found in other towns and areas, although the Myanmar government's official death toll may have been under-reported, and there have been allegations that government officials stopped updating the death toll after 138,000 to minimise political fallout. The feared 'second wave' of fatalities from disease and lack of relief efforts never materialised. Damage was at $12 billion, making Nargis the costliest tropical cyclone on record in the North Indian Ocean at the time, before that record was broken by Cyclone Amphan in 2020.The first named storm of the 2008 North Indian Ocean cyclone season, Nargis developed on 27 April in the central area of Bay of Bengal. Initially, the storm tracked slowly northwestward, and encountering favourable conditions, it quickly strengthened. Dry air weakened the cyclone on 29 April, though after beginning a steady eastward motion, Nargis rapidly intensified to attain peak winds of at least 165 km/h (105 mph) on 2 May, according to IMD observations; the JTWC assessed peak winds of 215 km/h (135 mph), making it a weak Category 4 cyclone on the SSHWS. The cyclone moved ashore in the Ayeyarwady Division of Myanmar at peak intensity and, after passing near the major city of Yangon (Rangoon), the storm gradually weakened until dissipating near the border of Myanmar and Thailand.\n",
      "Nargis is the deadliest named cyclone in the North Indian Ocean Basin, as well as the second-deadliest named cyclone of all time, behind Typhoon Nina of 1975. Including unnamed storms like the 1970 Bhola cyclone, Nargis is the fifth-deadliest cyclone of all time, but an uncertainty between the deaths caused by Nargis and those caused by other cyclones (like the 1991 Bangladesh cyclone), could put Nargis as fourth-deadliest or higher, because the exact death toll is uncertain.\n",
      "\n",
      "Full Content:\n",
      "Extremely Severe Cyclonic Storm Nargis (Urdu: نرگس [ˈnərɡɪs]) was an extremely destructive and deadly tropical cyclone that caused the worst natural disaster in the recorded history of Myanmar during early May 2008. The cyclone made landfall in Myanmar on Friday, 2 May 2008, sending a storm surge 40 kilometres up the densely populated Irrawaddy delta, causing catastrophic destruction and at least 138,373 fatalities. The Labutta Township alone was reported to have 80,000 dead, with about 10,000 more deaths in Bogale. There were around 55,000 people missing and many other deaths were found in other towns and areas, although the Myanmar government's official death toll may have been under-reported, and there have been allegations that government officials stopped updating the death toll after 138,000 to minimise political fallout. The feared 'second wave' of fatalities from disease and lack of relief efforts never materialised. Damage was at $12 billion, making Nargis the costliest tropical cyclone on record in the North Indian Ocean at the time, before that record was broken by Cyclone Amphan in 2020.The first named storm of the 2008 North Indian Ocean cyclone season, Nargis developed on 27 April in the central area of Bay of Bengal. Initially, the storm tracked slowly northwestward, and encountering favourable conditions, it quickly strengthened. Dry air weakened the cyclone on 29 April, though after beginning a steady eastward motion, Nargis rapidly intensified to attain peak winds of at least 165 km/h (105 mph) on 2 May, according to IMD observations; the JTWC assessed peak winds of 215 km/h (135 mph), making it a weak Category 4 cyclone on the SSHWS. The cyclone moved ashore in the Ayeyarwady Division of Myanmar at peak intensity and, after passing near the major city of Yangon (Rangoon), the storm gradually weakened until dissipating near the border of Myanmar and Thailand.\n",
      "Nargis is the deadliest named cyclone in the North Indian Ocean Basin, as well as the second-deadliest named cyclone of all time, behind Typhoon Nina of 1975. Including unnamed storms like the 1970 Bhola cyclone, Nargis is the fifth-deadliest cyclone of all time, but an uncertainty between the deaths caused by Nargis and those caused by other cyclones (like the 1991 Bangladesh cyclone), could put Nargis as fourth-deadliest or higher, because the exact death toll is uncertain. Nargis was the first tropical cyclone to strike the country since Cyclone Mala made landfall in 2006, which was slightly stronger, but had a significantly lower impact. According to reports, Indian authorities had warned Myanmar about the danger that Cyclone Nargis posed 48 hours before it hit the country's coast.\n",
      "Relief efforts were slowed for political reasons as Myanmar's military rulers initially resisted large-scale international aid. US President George W. Bush said that an angry world should condemn the way Myanmar's military rulers were handling the aftermath of such a catastrophic cyclone. Myanmar's military junta finally accepted aid a few days after India's request was accepted.Hampering the relief efforts, only ten days after the cyclone, the 2008 Sichuan earthquake occurred nearby and measured 7.9 in magnitude, taking 87,476 lives and causing US$150 billion in damage in the process, making it the costliest disaster in Chinese history and third-costliest disaster ever known. Furthermore, some donated aid items were found to be available in the country's black market, and Myanmar's junta warned on 15 May that legal action would be taken against people who traded or hoarded international aid.\n",
      "\n",
      "\n",
      "== Meteorological history ==\n",
      "\n",
      "Towards the end of April 2008, the Inter-Tropical Convergence Zone over the Indian Ocean became very active, with a tropical disturbance developing under its influence during 25 April. Over the next couple of days, the disturbance gradually developed further within an area of low vertical wind shear, before it was classified as a depression by the India Meteorological Department early on 27 April. Initially, the depression moved westward and was classified as a deep depression by the IMD, before the United States Joint Typhoon Warning Center (JTWC) initiated advisories and classified the storm as Tropical Cyclone 01B later that day. The system subsequently started to move north-westwards under the steering influence of an anticyclone and an upper-level ridge of high pressure.At 0000 UTC, 5:30 AM Indian Standard Time, on 28 April, the IMD upgraded the system to Cyclonic Storm Nargis, while it was located about 550 km (340 mi) east of Chennai, India.On 28 April, Nargis became nearly stationary, while situated between high-pressure ridges to its northwest and southeast. That same day, the JTWC upgraded the storm to cyclone status, the equivalent of a minimal Category 1 hurricane on the Saffir–Simpson hurricane scale. Around the same time, the IMD upgraded Nargis to a severe cyclonic storm. The cyclone developed a concentric eye feature, which is an eyewall outside another eyewall, with warm waters aiding in further intensification. Early on 29 April, the JTWC estimated Nargis reached winds of 160 km/h (100 mph), and at the same time, the IMD classified the system as a very severe cyclonic storm. Initially, the cyclone was forecast to strike Bangladesh or southeastern India. Subsequently, the cyclone became disorganised and weakened due to subsidence and drier air; as a result, deep convection near the center markedly decreased. At the same time, the storm began a motion to the northeast, around the periphery of a ridge to its southeast. The circulation remained strong despite the diminishing convection, though satellite intensity estimates using the Dvorak technique indicated the cyclone could have weakened to tropical storm status. By late on 29 April, convection had begun to rebuild, though immediate restrengthening was prevented by increased wind shear.\n",
      "\n",
      "On 1 May 2008, after turning nearly due eastward, Cyclone Nargis began rapidly intensifying, due to greatly improved outflow aided by an approaching upper-level trough. Strengthening continued as Nargis developed a well-defined eye with a diameter of 19 km (12 mi), and early on 2 May, the JTWC estimated that the cyclone reached peak 1-minute winds of 215 km/h (135 mph), as it approached the coast of Myanmar, making it a Category 4 storm. At the same time, the IMD assessed Nargis as attaining peak 3-minute sustained winds of 165 km/h (105 mph). Around 1200 UTC on 2 May, Cyclone Nargis made landfall in the Ayeyarwady Division of Myanmar at peak strength. The storm gradually weakened as it proceeded east over Myanmar, with its proximity to the Andaman Sea preventing rapid weakening. Its track turned to the northeast due to the approach of a mid-latitude trough to its northwest, passing just north of Yangon with winds of 130 km/h (80 mph). Early on 3 May, the IMD issued its final advisory on the storm. Nargis quickly weakened after turning to the northeast, toward the rugged terrain near the Myanmar–Thailand border, and after deteriorating to minimal tropical storm status, the JTWC issued its last advisory on Nargis.\n",
      "\n",
      "\n",
      "== Impact ==\n",
      "\n",
      "\n",
      "=== Western Bay of Bengal ===\n",
      "\n",
      "On 27 and 28 April, the cyclone enhanced the South-West Monsoon over Sri Lanka, which resulted in very heavy rain, flooding, and landslides being reported within the Western, Sabaragamuwa and Southern provinces. The districts of Ratnapura and Kegalle were the most affected, where more than 3,000 families were displaced. Thousands of houses were flooded, with 21 reported destroyed. The rainfall left 4,500 people homeless, and more than 35,000 people were affected on the island. Three people were reported injured on the island, while two were reported dead.\n",
      "\n",
      "The India Meteorological Department recommended that fishermen should not sail on the ocean during the passage of Nargis. Strong waves and gusty winds were expected along the Tamil Nadu and Andhra Pradesh coastline in India. Additionally, the influence of the cyclone lowered temperatures along the Indian coastline, which had been affected by a severe heat wave.When the cyclone was originally expected to strike near Bangladesh, officials requested farmers to hurriedly finish harvesting the rice crop. At the time, the country was experiencing severe food shortages from Cyclone Sidr in the previous year and flooding earlier in the year, and a direct strike from Nargis would have resulted in destroyed crops due to strong winds.\n",
      "\n",
      "\n",
      "=== Myanmar ===\n",
      "\n",
      "The United Nations estimated that 1.5 million people were \"severely affected\" by Nargis. Estimates of the people missing were 53,836, with 84,537 confirmed dead. Some NGOs estimated that the final death toll would be over 100,000. At least 10,000 people were reported to have perished in the delta town of Bogale alone.Nargis was the deadliest tropical cyclone in the North Indian Ocean since the 1991 Bangladesh cyclone, which killed at least 138,866 people. One aid worker claimed that the death toll from the cyclone and its aftermath might reach 300,000; if correct, Nargis was the second-deadliest cyclone ever and the fifth-deadliest natural disaster of the 20th century, after the 1931 China floods. Other more deadly natural disasters include the 1887 Yellow River flood, the 1556 Shaanxi earthquake, and the 1970 Bhola cyclone in Bangladesh.Myanmar's military leaders did not count the full death toll from Nargis (leaving the area shortly after it hit), and this led to initial uncertainty about the scale of the disaster. The final death toll from Nargis was at least 146,000, because there were 90,000 people confirmed dead at one point and 56,000 were missing. They were never found, so it was assumed that these 56,000 people were killed. Thus, its death toll would exceed that of the 1991 storm and make it the deadliest since the 1970 storm. It is now thought that hundreds of thousands of people will never be found after Nargis because their bodies have decayed, been buried, or were washed out to sea.Andrew Kirkwood, country director of the British charity Save The Children, stated: \"We're looking at 50,000 dead and millions of homeless, I'd characterise it as unprecedented in the history of Myanmar and on an order of magnitude with the effect of the [2004] tsunami on individual countries. There might well be more dead than the tsunami caused in Sri Lanka.\" Foreign aid workers estimated that 2 million to 3 million were homeless, often going to one of 260,000 refugee camps in Myanmar. It was likely the worst disaster in Myanmar's history, and the total damages were comparable to that of the 2004 Indian Ocean tsunami.Thousands of buildings were destroyed; in the town of Labutta, in the Ayeyarwady Division, state television reported that 75 percent of buildings had collapsed and 20 percent had their roofs ripped off. One report indicated that 95 percent of buildings in the Irrawaddy Delta area were destroyed. The Ministry of Religious Affairs stated that 1,163 temples were destroyed in Ayeyarwady Division and 284 in Yangon Division.The Burmese government formally declared five regions—Yangon, Ayeyarwady, Bago Divisions and Mon and Kayin States— as disaster areas.A United Nations official commented as follows: \"It's a bad situation. Almost all the houses are smashed. People are in a terrible situation.\" Another UN official said that \"The Irrawaddy delta was hit extremely hard not only because of the wind and rain but because of the storm surge.\" Burst sewage mains caused the landscape to flood with waste, ruining the rice crop.The Daily Telegraph (UK) reported that food prices in Myanmar could be affected. Woradet Wirawekhin (th: วรเดช วีระเวคิน), deputy director general of Thailand's Department of Information, Ministry of Foreign Affairs, stated on 7 May 2008 that, in reference to a report submitted by Bansan Bunnak (th: บรรสาน บุนนาค), the Thai ambassador in Yangon, conditions in the city had deteriorated and that most businesses and markets were closed. Mr. Wirawekhin also reported that the locals faced even more adversity in basic subsistence, because local food prices had increased two- or threefold.\n",
      "\n",
      "\n",
      "== Aftermath ==\n",
      "\n",
      "\n",
      "=== International relief ===\n",
      "On 6 May 2008, the Burmese government representation in New York City formally asked the United Nations for help, but in other ways it remained resistant to the most basic assistance. On 7 May 2008, the government of Myanmar had not officially endorsed international assistance, but stated that they were, \"willing to accept international assistance, preferably bilateral, government to government.\" The biggest challenge was obtaining visas for entry into the country.According to Thai Rath Newspaper of Thailand on 8 May 2008, in the afternoon (Bangkok time) of 7 May 2008, the Burmese junta permitted Italian flights containing relief supplies from the United Nations, and twenty-five tonnes of consumable goods, to land in Myanmar. However, many nations and organisations hoped to deliver assistance and relief to Myanmar without delay; most of their officials, supplies and stores were waiting in Thailand and at the Yangon airport, as the Burmese junta declined to issue visas for many of those individuals. These political tensions raised the concern that some food and medical supplies might become unusable, even before the Burmese junta officially accepted the international relief effort.\n",
      "\n",
      "\n",
      "==== Bangladesh ====\n",
      "Bangladesh, which has had experience with cyclones in the past, was one of the first countries to supply aid to Myanmar in the aftermath of Cyclone Nargis. Two planes carrying aid, organised by the Bangladesh Army, were sent to Myanmar on 8 May 2008. They carried stockpiles of emergency aid and hundreds of aid workers with experience in coping with the aftermath of a cyclone.\n",
      "\n",
      "\n",
      "==== India ====\n",
      "India, one of the few countries which maintains close relations with Myanmar, launched Operation Sahayata under which two Indian Navy ships and two Indian Air Force (IAF) aircraft supplied the first international relief material to the cyclone-hit country. The two aircraft carried 4 tonnes of relief supplies each while the Indian Navy transported more than 100 tonnes of relief material. On 8 May, the IAF dispatched its third air consignment carrying over 32 tonnes of relief material including tents, blankets and medicines. India planned to send more aid to Burma. In a separate development, Burma denied Indian search and rescue teams and media access to critical cyclone-hit areas. India released a statement saying it had requested Burma to accept international aid especially that from the United States, to which Burma agreed. According to various reports, Indian authorities had warned Burma about the danger that Cyclone Nargis posed 48 hours before it hit the country's coast. As of 16 May 2008, India's offer to send a team of 50 medical personnel to set up two independent mini-hospitals in the Irrawaddy delta was accepted by the Burmese government. An aircraft carrying the team of doctors was being prepared at Delhi's Palam Air Force Base.\n",
      "\n",
      "\n",
      "==== Italy ====\n",
      "Italy provided €465,000 (about $732,282) worth of aid in the form of 30 tons of emergency relief equipment, such as stretchers, generators, and water purifiers in a flight organised by the World Food Program (WFP). The flight arrived in Yangon on 8 May. This was the first aid flight from a Western nation, preceded only by aid from Thailand.In addition to this aid, the Italian government provided €500,000 through the WFP and €500,000 through funding to relief agencies through the UN.  An additional €123,000 was provided through the Red Cross, as well as €300,000 worth of further financing for emergency equipment.\n",
      "\n",
      "\n",
      "==== Malaysia ====\n",
      "Mercy Malaysia also trained 180 doctors from the Myanmar Medical Association in Yangon for deployment in the Irrawaddy Delta. RM 1.8 mil was collected for victims of Myanmar's cyclone victims through The Star Myanmar Relief Fund and handed to Mercy Malaysia executive council member Dr Ahmad Faizal Perdaus.  A second Malaysian Red Crescent Society (MRCS) disaster relief team was sent to Myanmar on 21 May 2008.\n",
      "\n",
      "\n",
      "==== Thailand ====\n",
      "Thailand sent US$100,000 in supplies, thirty tonnes of medical supplies and twelve tonnes of food supplies from Thai Red Cross. Additionally, Chaiya Sasomsap, Minister of Public Health of Thailand, stated that the Government had already sent medical supplies valued more than one billion baht ($31.3 million) to Myanmar. Furthermore, the Government of Thailand dispatched, upon the permission of the Burmese junta, twenty medical teams and twenty quick communicable disease suppression units. Samak Sundaravej stated that \"if Myanmar gives the green light allowing us to help, our Air Force will provide C-130 aircraft to carry our teams there. This should not be precipitately carried out, it has to have the permission of their government.\" On 7 May 2008, those units, with their subordinate aeroplanes, were permitted to land in Yangon, carrying drinking water and construction material.\n",
      "\n",
      "\n",
      "==== United Kingdom ====\n",
      "One of the largest sums was donated by the United Kingdom which committed £17 million (approx US$33.5 million).  The UK's Department for International Development sent an international relief team to help with the co-ordination of the international relief effort.  Another team from the same department was also on the ground inside Myanmar.  The Royal Navy dispatched HMS Westminster to the area to assist. This ship was part of the Orion 08 group deployment but was detached on a contingency tasking. This mission was codenamed Operation Songster. Prime Minister Gordon Brown remained extremely critical of the Burmese régime and had not ruled out violating Burmese sovereignty by carrying out \"forced airdrops\" to deliver aid.\n",
      "\n",
      "\n",
      "==== United States ====\n",
      "\n",
      "On 5 May, US Chargé d'affaires in Myanmar Shari Villarosa declared a disaster due to the effects of Cyclone Nargis. In response, the US Agency for International Development (USAID) deployed a Disaster Assistance Response Team (DART) and immediately provided $2 million to UNICEF, WFP, and the Office of the United Nations High Commissioner for Refugees (UNHCR) for emergency food, water and sanitation, and shelter assistance.On 6 May, an additional $3 million from USAID was allocated for the provision of emergency relief assistance, including $1 million to the American Red Cross and $2 million for NGO partners and on 12 May, USAID Administrator Henrietta H. Fore announced $13 million in food aid and logistics assistance through the World Food Programme.From 12 to 20 May, USAID and the US Department of Defense (DOD) coordinated the delivery of nearly $1.2 million of US relief commodities to Rangoon on 185 DOD C-130 flights. The relief supplies would provide assistance to more than 113,000 beneficiaries.  The DOD efforts were under the direction of Joint Task Force Caring Response.As of 26 June 2008, United States assistance had totalled $41,169,769 and continued to be directed by the USAID DART stationed in Thailand.\n",
      "\n",
      "\n",
      "==== Other relief efforts ====\n",
      "On 15 May, the United Nations Office for the Coordination of Humanitarian Affairs (OCHA) launched the Burmese HIC website. The purpose of the site was to improve information exchange and collaboration between operational agencies responding to Cyclone Nargis. Based in Bangkok, the HIC was providing support to the Humanitarian Partnership Team and other humanitarian partners in Yangon, as well as those based in Bangkok.By 8 May 2008, the Foundation for the People of Burma had a team on the ground in Rangoon and beyond providing direct assistance to thousands of refugees.  Since this organisation was administered by Buddhist volunteers and already had tacit permission from the Burmese government, all donations went directly for supplies.\n",
      "\n",
      "The International Federation of Red Cross and Red Crescent Societies had pledged $189,000 for relief. The federation had also launched an appeal of a further CHF73.9 million. Red Cross spokesman Matt Cochrane said that cyclone survivors needed everything. They needed emergency shelter to keep them dry, including food supplies. He said stagnant waters were a perfect breeding ground for the malaria mosquito, so insecticide-treated nets were needed. The Red Cross suffered a setback when a boat carrying supplies sank when it hit a submerged tree. Everyone aboard survived, but most of the cargo was lost. Ten Red Cross/Red Crescent relief flights carrying medical and shelter supplies were due to land in Yangon on 12 May.Trocaire has been active in Myanmar since 1995 and were the first Irish aid agency to gain access after Cyclone Nargis. Relief work has been conducted mainly through local partners and membership of the international federation Caritas Internationalis. Trocaire had appealed for the focus of humanitarian work in Myanmar not to be lost in the wake of China's more recent earthquake.Save the Children, one of the few agencies allowed to work in Myanmar, said the toll would likely sharply grow in the next few days as help reached isolated areas. On 18 May, it announced that it believed that thirty thousand children younger than five were already facing malnutrition and could starve in under a month if food did not reach them.Médecins Sans Frontières landed a plane of 40 tons of relief and medical supplies in Rangoon. After clearing customs the supplies were transferred to local MSF warehouses. They have approximately 200 workers in the region, many of whom have been involved in long-term projects there and were already in the region.World Vision launched a US$3 million appeal and sought to get international aid into the country. Staff on the ground were working to distribute food, water and other non-food items while WV Myanmar managers sought approval from the government to work in the worst affected areas and to bring in aid from outside.Local NGOs also responded to the emergency, many adapting from human-rights or women's focuses to humanitarian emergency relief.\n",
      "\n",
      "\n",
      "== Burma controversy ==\n",
      "\n",
      "\n",
      "=== Military junta's blockade of aid ===\n",
      "In the days after the storm, the junta pursued a CNN reporter covering the effects of the storm.  The reporter was eventually forced to leave the country out of fear of being imprisoned.On 9 May 2008, the junta officially declared that their acceptance of international aid relief would be limited to food, medicines and other supplies as well as financial aid, but would not allow additional foreign aid workers or military units to operate in the country. Samak Sundaravej, Prime Minister of Thailand, stated that, following the request of Eric G. John, US Ambassador to Thailand, he would visit Myanmar on 11 May to urge the junta to open the country. Quinton Quayle, UK Ambassador to Thailand, later remarked that he would also join Sundaravej. However, the junta immediately replied that it was not willing to welcome anyone at this time. Sundaravej said that he would still submit the mediating letter to the junta without delay.The delays had attracted international condemnation. Also, on 9 May in Bangkok, Richard Horsey, spokesperson of the United Nations, urged Myanmar to accept a full scale international relief effort. United Nations Secretary General Ban Ki-moon urged the junta to allow aid in \"without hindrance\". Ban's comments came after the World Food Programme resumed food aid after two shipments of high energy biscuits were stolen by the military. The House of Commons of Canada condemned the Burmese government's response in a resolution passed unanimously on 9 May 2008. Oxfam International's regional chief Sarah Ireland warned that 1.5 million face death if they did not get clean water and sanitation soon: \"It's really crucial that people get access to clean water sources and sanitation to avoid unnecessary deaths and suffering.\" Myanmar's government seemed unaware of the scope of the death and destruction Cyclone Nargis wrought on the country more than a week ago, it was reported 13 May 2008. Some critics were even suggesting genocide since the Burmese government had deliberately denied storm victims aid, allowing for hundreds of thousands to potentially die from starvation, exposure, and disease.On 16 May 2008, the Burmese UN ambassador accused France of deploying a warship to the Burmese coast. The French UN ambassador denied the LHD Mistral was a warship, and claimed Myanmar's refusal to allow increased aid into the country \"could lead to a true crime against humanity.\"  France stated the ship in question was carrying 1,500 tons of relief supplies.  UK Prime Minister Gordon Brown accused the ruling junta of allowing the disaster to grow into a \"man-made catastrophe\" through its failure to act. He also rebuked the junta as being guilty of inhuman actions.On 19 May, Myanmar agreed to allow aid from members of the Association of South-East Asian Nations (ASEAN) to enter. The decision came after an emergency ASEAN summit. The aid would start arriving 21 May. Ban Ki-moon would probably visit the country the same day to \"accelerate relief efforts\". That day, Ban announced that Myanmar was going to \"allow all aid workers regardless of nationality\" to enter, although ships and helicopters were still not expected to be allowed. The announcement came after Ban had met with junta leader General Than Shwe for over two hours. Organizations welcoming the announcement included World Vision, the World Food Programme, and the International Rescue Committee.On 23 May, negotiations between UN Secretary General Ban Ki-Moon and Than Shwe resulted in the opening of Myanmar to aid workers, regardless of nationality. Myanmar's government was still staunchly opposed to the presence of military units in the country, only allowing dedicated relief workers.  On 5 June, a USS Essex-led American carrier group full of aid left the Burmese coast after being denied entry for several weeks, taking its aid back undelivered.On 27 May, to complicate world opinion and in contrast to numerous and varied accounts from international relief organisations, the Burmese junta praised U.N. aid.On 5 June 2008, Amnesty International released a report saying that at least thirty people had been evicted from refugee camps. The report also indicated that the military was horse-trading aid for physical labour.\n",
      "\n",
      "\n",
      "=== Uninterrupted referendum ===\n",
      "\n",
      "Despite objections raised by the Burmese opposition parties and foreign nations in the wake of the natural disaster, the junta proceeded with a previously scheduled (10 May 2008) constitutional referendum. Voting however was postponed until 24 May 2008 in Yangon and other areas hardest hit by the storm.On 8 May 2008, about thirty protesters assembled before Myanmar's embassy in Manila, Philippines, demanding that the junta defer voting on the referendum and immediately accept international relief. The Philippine protesters delivered the statement that \"this time is not the time for politics, but it is the time to save people.\" The United States Government also demanded that the United Nations not endorse the referendum. Aung San Suu Kyi, leader of the Burmese opposition, also stated that holding a vote for the referendum during this disaster would be a consummately unacceptable act.  About 500 Burmese activists demonstrated on 10 May outside their country's embassy in Kuala Lumpur, Malaysia, demanding that Burma's military regime call off its constitutional referendum even as voting began despite a devastating cyclone.In a public poll conducted throughout Myanmar on 9 May 2008 by Mizzima, a Myanmar news agency, 64% of those surveyed still intended to vote in the referendum. However, 71% did not know what the constitution was, and 52% had not yet decided whether they would vote to support or oppose it.\n",
      "\n",
      "\n",
      "=== Aid distribution controversy ===\n",
      "AP news stories stated that foreign aid provided to disaster victims was modified to make it look like it came from the military regime, and state-run television continuously ran images of General Than Shwe ceremonially handing out disaster relief.More than a week after the disaster, only one out of 10 people who were homeless, injured or threatened by disease and hunger had received some kind of aid. More than two weeks later, relief had only reached 25 percent of people in need.Nine days after the cyclone, the military government was still refusing to grant visas and access for aid workers into the area. The UN called for an air or sea corridor to be opened to channel large amounts of aid, and HMS Westminster was sent to the area, alongside French and United States military assets.\n",
      "\n",
      "\n",
      "=== Activists respond to the blockade of aid ===\n",
      "A Facebook.com page called Support the Relief Efforts for Burma (Myanmar) Cyclone Disaster Victims with 10,000 members used its members to organise a Global Day Of Action for Burma on 17 May 2008. with the help of Burma Global Action Network, Burma Campaign UK, Canadian Friends of Burma, the US Campaign for Burma, Info Birmanie, as well as countless local partners, a Global Day of Action for Burma a call for Humanitarian Intervention was held on 17 May 2008, in cities worldwide. An apparent response to the junta's blockade of aid to the Cyclone Nargis victims, the international community called for a humanitarian corridor to get aid into the hardest hit areas of Myanmar.\n",
      "\n",
      "\n",
      "== Records ==\n",
      "Nargis set many records for its death toll and its damage. In addition, when Nargis reached Category 4 on the SSHS on 2 May, it marked the only time that a Category 4 storm had formed in this basin for three consecutive years: starting with Mala (2006), going into 2007 with Sidr and Gonu, and ending with Nargis. It was the costliest storm in the Indian Ocean cyclone basin in recorded history at the time; it was eventually surpassed by Cyclone Amphan in 2020.\n",
      "The exact death toll from Nargis will likely never be known, but it was most likely one of the deadliest tropical cyclones in recorded history, in fact, Nargis is the deadliest tropical cyclone of the 3rd millennium to date.\n",
      "\n",
      "\n",
      "== Private relief ==\n",
      "Several international organisations were approved to support relief efforts within the country:\n",
      "\n",
      "Adventist Development and Relief Agency (ADRA) assisted survivors in the severely-affected Irrawaddy Delta by providing food aid, access to water, medical assistance, kitchen kits, and other necessary relief.\n",
      "The Aidmatrix Foundation provided an online co-ordination portal connecting businesses, groups and individuals wishing to offer products, services, or financial contributions.\n",
      "The American Jewish World Service provided emergency support to local organisations responding to immediate needs.\n",
      "Architecture for Humanity provided long-term support for sustainable reconstruction of housing, schools, clinics and other critical infrastructure.\n",
      "Giving Children Hope sent emergency supplies to local partner organisations.\n",
      "CARE had offices in Yangon that were damaged.\n",
      "Italian aid organisation Cesvi operated in over 40 villages in the Dedaye Township.\n",
      "Chevron Corporation contributed US$2 million, of which half went to the International Federation of the Red Cross and the other half was allocated to four other organisations: the International Organization for Migration, Mercy Corps, Pact and Save the Children.\n",
      "The Church World Service worked with the Myanmar Council of Churches on the relief effort.\n",
      "Direct Relief worked with several local partner groups and organisations.\n",
      "Doctors Without Borders/Médecins Sans Frontières had more than 200 aid workers responding on the ground.\n",
      "GlobalGiving had several targeted relief projects with grassroots organisations already in Myanmar, including the International Medical Corps and CHF International.\n",
      "Baptist World Aid operated search, rescue and medical teams, and also prepared humanitarian relief and a special water purification and clean water packing (waterbags) unit.\n",
      "Hewlett-Packard Foundation made a donation of US$250,000 via the World Food Programme (WFP).\n",
      "Lutheran World Relief worked through the Church World Service.\n",
      "LDS Church delivered several tonnes of food, blankets, and other supplies.\n",
      "LIRNEasia, an Asia Pacific-based telecom think tank made their donations through Lekadhikari of Amarapura nikaya, Sri Lanka.\n",
      "Mingalar Foundation, a Myanmar-based NGO, distributed food, clean water, shelter and medicine to 37,000+ unreached people (about 7,000 families) in 9 affected areas everyday, also accepting donations online with the help of Samui Island Hotels (USA/Thailand).\n",
      "Myanmar Red Cross appealed for help and is on the ground.\n",
      "Proximity Designs distributed US$17.9 million in aid to 2.49 million people following the storm and continues to help farming families rebuild through cash-for-work infrastructure projects in 214 villages throughout the Irrawaddy Delta.\n",
      "Save the Children is \"one of the largest non-governmental organizations at work in Myanmar\" and has launched a full scale relief effort.\n",
      "Sewa International has a network of volunteers and partner organisations active in the affected areas.\n",
      "ShelterBox Australian and other Rotary International bodies are assisting. ShelterBoxes started arriving on 10 May.\n",
      "UNICEF is in country and has already provided relief supplies.\n",
      "Unitarian Universalist Service Committee has joined with the Unitarian Universalist Association to launch a humanitarian relief fund to help survivors of the cyclone in Myanmar. The UUSC responds strategically to crises, especially when rights are threatened or when those in need are overlooked or neglected by traditional relief approaches.\n",
      "World Relief is working with partners in the Global Relief Alliance to bring vital aid to thousands in desperate need in the aftermath of the storm.\n",
      "World Vision has 600 staff on the ground.\n",
      "Nargis Action Group Myanmar Egress is currently involved in disaster relief operations in 4 severely damaged townships in the Delta region. In so doing, Myanmar Egress has collaborated with some business companies that have been granted permission by the authorities to undertake in the rescue and relief work in several storm-hit areas in the delta. Myanmar Egress is engaging in all these disaster relief activities under the name of \"Nargis Action Group Myanmar\".\n",
      "\n",
      "\n",
      "=== Impact on rice supplies ===\n",
      "The Irrawaddy Delta is such a fertile area for rice growing that it was known as the \"rice bowl\" of the British Empire. Production was high enough that Myanmar could feed its citizens a high amount of rice (by the standards of Asia) with enough left over to sell on the market. Since Nargis hit right around harvest, a rice shortage and famine could result. The United Nations' Food and Agriculture Organization estimated that Nargis impacted 65% of the country's paddies. They feel that the situation would be \"devastating... if the recent disaster results in severe rice shortages.\" This might exacerbate the crisis already occurring, but it could be partially alleviated if fall and late summer harvests were good. Myanmar had since appealed for aid to assist with getting the rice planted, as its farmers had a 40- to 50-day window of opportunity before the season's crop would be lost.  The Myanmar government estimated losses of US$10 billion because of the cyclone.\n",
      "\n",
      "\n",
      "== Update ==\n",
      "The UN Human Settlements Programme (UN-HABITAT) reported the extent of the international response to date as less than 7 percent of the actual needs for shelter after 15 months, although emergency shelter relief efforts were well funded. It estimated about 209,000 families had rebuilt their own homes alone over the past year. Out of US$150 million requested for shelter repair and reconstruction under the Post Nargis Recovery Plan (PONREPP) — a three-year recovery strategy running to 2011 — only US$50 million had been received.\n",
      "\n",
      "\n",
      "== See also ==\n",
      "\n",
      "Burma–Thailand relations\n",
      "1970 Bhola cyclone – The deadliest tropical cyclone recorded worldwide\n",
      "Cyclone Giri\n",
      "Cyclone Mala\n",
      "Cyclone Komen\n",
      "Cyclone Mora\n",
      "List of tropical cyclones\n",
      "List of natural disasters by death toll\n",
      "Timeline of the 2008 North Indian Ocean cyclone season\n",
      "Tropical cyclones in Myanmar\n",
      "\n",
      "\n",
      "== References ==\n",
      "\n",
      "\n",
      "== Further reading ==\n",
      "Larkin, Emma (2010). Everything is Broken: the Untold Story of Disaster under Burma's Military Regime. Granta.\n",
      "\n",
      "\n",
      "== External links ==\n",
      "Damage information from BBC\n",
      "Google Map: Path of Cyclone Nargis\n",
      "Red Cross – Red Cross Movement response to Cyclone Nargis\n",
      "\"Eyes of the Storm\" Full episode of PBS documentary on orphans of Cyclone Nargis fending for themselves.\n"
     ]
    },
    {
     "data": {
      "text/plain": [
       "'Extremely Severe Cyclonic Storm Nargis (Urdu: نرگس [ˈnərɡɪs]) was an extremely destructive and deadly tropical cyclone that caused the worst natural disaster in the recorded history of Myanmar during early May 2008. The cyclone made landfall in Myanmar on Friday, 2 May 2008, sending a storm surge 40 kilometres up the densely populated Irrawaddy delta, causing catastrophic destruction and at least 138,373 fatalities. The Labutta Township alone was reported to have 80,000 dead, with about 10,000 more deaths in Bogale. There were around 55,000 people missing and many other deaths were found in other towns and areas, although the Myanmar government\\'s official death toll may have been under-reported, and there have been allegations that government officials stopped updating the death toll after 138,000 to minimise political fallout. The feared \\'second wave\\' of fatalities from disease and lack of relief efforts never materialised. Damage was at $12 billion, making Nargis the costliest tropical cyclone on record in the North Indian Ocean at the time, before that record was broken by Cyclone Amphan in 2020.The first named storm of the 2008 North Indian Ocean cyclone season, Nargis developed on 27 April in the central area of Bay of Bengal. Initially, the storm tracked slowly northwestward, and encountering favourable conditions, it quickly strengthened. Dry air weakened the cyclone on 29 April, though after beginning a steady eastward motion, Nargis rapidly intensified to attain peak winds of at least 165 km/h (105 mph) on 2 May, according to IMD observations; the JTWC assessed peak winds of 215 km/h (135 mph), making it a weak Category 4 cyclone on the SSHWS. The cyclone moved ashore in the Ayeyarwady Division of Myanmar at peak intensity and, after passing near the major city of Yangon (Rangoon), the storm gradually weakened until dissipating near the border of Myanmar and Thailand.\\nNargis is the deadliest named cyclone in the North Indian Ocean Basin, as well as the second-deadliest named cyclone of all time, behind Typhoon Nina of 1975. Including unnamed storms like the 1970 Bhola cyclone, Nargis is the fifth-deadliest cyclone of all time, but an uncertainty between the deaths caused by Nargis and those caused by other cyclones (like the 1991 Bangladesh cyclone), could put Nargis as fourth-deadliest or higher, because the exact death toll is uncertain. Nargis was the first tropical cyclone to strike the country since Cyclone Mala made landfall in 2006, which was slightly stronger, but had a significantly lower impact. According to reports, Indian authorities had warned Myanmar about the danger that Cyclone Nargis posed 48 hours before it hit the country\\'s coast.\\nRelief efforts were slowed for political reasons as Myanmar\\'s military rulers initially resisted large-scale international aid. US President George W. Bush said that an angry world should condemn the way Myanmar\\'s military rulers were handling the aftermath of such a catastrophic cyclone. Myanmar\\'s military junta finally accepted aid a few days after India\\'s request was accepted.Hampering the relief efforts, only ten days after the cyclone, the 2008 Sichuan earthquake occurred nearby and measured 7.9 in magnitude, taking 87,476 lives and causing US$150 billion in damage in the process, making it the costliest disaster in Chinese history and third-costliest disaster ever known. Furthermore, some donated aid items were found to be available in the country\\'s black market, and Myanmar\\'s junta warned on 15 May that legal action would be taken against people who traded or hoarded international aid.\\n\\n\\n== Meteorological history ==\\n\\nTowards the end of April 2008, the Inter-Tropical Convergence Zone over the Indian Ocean became very active, with a tropical disturbance developing under its influence during 25 April. Over the next couple of days, the disturbance gradually developed further within an area of low vertical wind shear, before it was classified as a depression by the India Meteorological Department early on 27 April. Initially, the depression moved westward and was classified as a deep depression by the IMD, before the United States Joint Typhoon Warning Center (JTWC) initiated advisories and classified the storm as Tropical Cyclone 01B later that day. The system subsequently started to move north-westwards under the steering influence of an anticyclone and an upper-level ridge of high pressure.At 0000 UTC, 5:30 AM Indian Standard Time, on 28 April, the IMD upgraded the system to Cyclonic Storm Nargis, while it was located about 550 km (340 mi) east of Chennai, India.On 28 April, Nargis became nearly stationary, while situated between high-pressure ridges to its northwest and southeast. That same day, the JTWC upgraded the storm to cyclone status, the equivalent of a minimal Category 1 hurricane on the Saffir–Simpson hurricane scale. Around the same time, the IMD upgraded Nargis to a severe cyclonic storm. The cyclone developed a concentric eye feature, which is an eyewall outside another eyewall, with warm waters aiding in further intensification. Early on 29 April, the JTWC estimated Nargis reached winds of 160 km/h (100 mph), and at the same time, the IMD classified the system as a very severe cyclonic storm. Initially, the cyclone was forecast to strike Bangladesh or southeastern India. Subsequently, the cyclone became disorganised and weakened due to subsidence and drier air; as a result, deep convection near the center markedly decreased. At the same time, the storm began a motion to the northeast, around the periphery of a ridge to its southeast. The circulation remained strong despite the diminishing convection, though satellite intensity estimates using the Dvorak technique indicated the cyclone could have weakened to tropical storm status. By late on 29 April, convection had begun to rebuild, though immediate restrengthening was prevented by increased wind shear.\\n\\nOn 1 May 2008, after turning nearly due eastward, Cyclone Nargis began rapidly intensifying, due to greatly improved outflow aided by an approaching upper-level trough. Strengthening continued as Nargis developed a well-defined eye with a diameter of 19 km (12 mi), and early on 2 May, the JTWC estimated that the cyclone reached peak 1-minute winds of 215 km/h (135 mph), as it approached the coast of Myanmar, making it a Category 4 storm. At the same time, the IMD assessed Nargis as attaining peak 3-minute sustained winds of 165 km/h (105 mph). Around 1200 UTC on 2 May, Cyclone Nargis made landfall in the Ayeyarwady Division of Myanmar at peak strength. The storm gradually weakened as it proceeded east over Myanmar, with its proximity to the Andaman Sea preventing rapid weakening. Its track turned to the northeast due to the approach of a mid-latitude trough to its northwest, passing just north of Yangon with winds of 130 km/h (80 mph). Early on 3 May, the IMD issued its final advisory on the storm. Nargis quickly weakened after turning to the northeast, toward the rugged terrain near the Myanmar–Thailand border, and after deteriorating to minimal tropical storm status, the JTWC issued its last advisory on Nargis.\\n\\n\\n== Impact ==\\n\\n\\n=== Western Bay of Bengal ===\\n\\nOn 27 and 28 April, the cyclone enhanced the South-West Monsoon over Sri Lanka, which resulted in very heavy rain, flooding, and landslides being reported within the Western, Sabaragamuwa and Southern provinces. The districts of Ratnapura and Kegalle were the most affected, where more than 3,000 families were displaced. Thousands of houses were flooded, with 21 reported destroyed. The rainfall left 4,500 people homeless, and more than 35,000 people were affected on the island. Three people were reported injured on the island, while two were reported dead.\\n\\nThe India Meteorological Department recommended that fishermen should not sail on the ocean during the passage of Nargis. Strong waves and gusty winds were expected along the Tamil Nadu and Andhra Pradesh coastline in India. Additionally, the influence of the cyclone lowered temperatures along the Indian coastline, which had been affected by a severe heat wave.When the cyclone was originally expected to strike near Bangladesh, officials requested farmers to hurriedly finish harvesting the rice crop. At the time, the country was experiencing severe food shortages from Cyclone Sidr in the previous year and flooding earlier in the year, and a direct strike from Nargis would have resulted in destroyed crops due to strong winds.\\n\\n\\n=== Myanmar ===\\n\\nThe United Nations estimated that 1.5 million people were \"severely affected\" by Nargis. Estimates of the people missing were 53,836, with 84,537 confirmed dead. Some NGOs estimated that the final death toll would be over 100,000. At least 10,000 people were reported to have perished in the delta town of Bogale alone.Nargis was the deadliest tropical cyclone in the North Indian Ocean since the 1991 Bangladesh cyclone, which killed at least 138,866 people. One aid worker claimed that the death toll from the cyclone and its aftermath might reach 300,000; if correct, Nargis was the second-deadliest cyclone ever and the fifth-deadliest natural disaster of the 20th century, after the 1931 China floods. Other more deadly natural disasters include the 1887 Yellow River flood, the 1556 Shaanxi earthquake, and the 1970 Bhola cyclone in Bangladesh.Myanmar\\'s military leaders did not count the full death toll from Nargis (leaving the area shortly after it hit), and this led to initial uncertainty about the scale of the disaster. The final death toll from Nargis was at least 146,000, because there were 90,000 people confirmed dead at one point and 56,000 were missing. They were never found, so it was assumed that these 56,000 people were killed. Thus, its death toll would exceed that of the 1991 storm and make it the deadliest since the 1970 storm. It is now thought that hundreds of thousands of people will never be found after Nargis because their bodies have decayed, been buried, or were washed out to sea.Andrew Kirkwood, country director of the British charity Save The Children, stated: \"We\\'re looking at 50,000 dead and millions of homeless, I\\'d characterise it as unprecedented in the history of Myanmar and on an order of magnitude with the effect of the [2004] tsunami on individual countries. There might well be more dead than the tsunami caused in Sri Lanka.\" Foreign aid workers estimated that 2 million to 3 million were homeless, often going to one of 260,000 refugee camps in Myanmar. It was likely the worst disaster in Myanmar\\'s history, and the total damages were comparable to that of the 2004 Indian Ocean tsunami.Thousands of buildings were destroyed; in the town of Labutta, in the Ayeyarwady Division, state television reported that 75 percent of buildings had collapsed and 20 percent had their roofs ripped off. One report indicated that 95 percent of buildings in the Irrawaddy Delta area were destroyed. The Ministry of Religious Affairs stated that 1,163 temples were destroyed in Ayeyarwady Division and 284 in Yangon Division.The Burmese government formally declared five regions—Yangon, Ayeyarwady, Bago Divisions and Mon and Kayin States— as disaster areas.A United Nations official commented as follows: \"It\\'s a bad situation. Almost all the houses are smashed. People are in a terrible situation.\" Another UN official said that \"The Irrawaddy delta was hit extremely hard not only because of the wind and rain but because of the storm surge.\" Burst sewage mains caused the landscape to flood with waste, ruining the rice crop.The Daily Telegraph (UK) reported that food prices in Myanmar could be affected. Woradet Wirawekhin (th: วรเดช วีระเวคิน), deputy director general of Thailand\\'s Department of Information, Ministry of Foreign Affairs, stated on 7 May 2008 that, in reference to a report submitted by Bansan Bunnak (th: บรรสาน บุนนาค), the Thai ambassador in Yangon, conditions in the city had deteriorated and that most businesses and markets were closed. Mr. Wirawekhin also reported that the locals faced even more adversity in basic subsistence, because local food prices had increased two- or threefold.\\n\\n\\n== Aftermath ==\\n\\n\\n=== International relief ===\\nOn 6 May 2008, the Burmese government representation in New York City formally asked the United Nations for help, but in other ways it remained resistant to the most basic assistance. On 7 May 2008, the government of Myanmar had not officially endorsed international assistance, but stated that they were, \"willing to accept international assistance, preferably bilateral, government to government.\" The biggest challenge was obtaining visas for entry into the country.According to Thai Rath Newspaper of Thailand on 8 May 2008, in the afternoon (Bangkok time) of 7 May 2008, the Burmese junta permitted Italian flights containing relief supplies from the United Nations, and twenty-five tonnes of consumable goods, to land in Myanmar. However, many nations and organisations hoped to deliver assistance and relief to Myanmar without delay; most of their officials, supplies and stores were waiting in Thailand and at the Yangon airport, as the Burmese junta declined to issue visas for many of those individuals. These political tensions raised the concern that some food and medical supplies might become unusable, even before the Burmese junta officially accepted the international relief effort.\\n\\n\\n==== Bangladesh ====\\nBangladesh, which has had experience with cyclones in the past, was one of the first countries to supply aid to Myanmar in the aftermath of Cyclone Nargis. Two planes carrying aid, organised by the Bangladesh Army, were sent to Myanmar on 8 May 2008. They carried stockpiles of emergency aid and hundreds of aid workers with experience in coping with the aftermath of a cyclone.\\n\\n\\n==== India ====\\nIndia, one of the few countries which maintains close relations with Myanmar, launched Operation Sahayata under which two Indian Navy ships and two Indian Air Force (IAF) aircraft supplied the first international relief material to the cyclone-hit country. The two aircraft carried 4 tonnes of relief supplies each while the Indian Navy transported more than 100 tonnes of relief material. On 8 May, the IAF dispatched its third air consignment carrying over 32 tonnes of relief material including tents, blankets and medicines. India planned to send more aid to Burma. In a separate development, Burma denied Indian search and rescue teams and media access to critical cyclone-hit areas. India released a statement saying it had requested Burma to accept international aid especially that from the United States, to which Burma agreed. According to various reports, Indian authorities had warned Burma about the danger that Cyclone Nargis posed 48 hours before it hit the country\\'s coast. As of 16 May 2008, India\\'s offer to send a team of 50 medical personnel to set up two independent mini-hospitals in the Irrawaddy delta was accepted by the Burmese government. An aircraft carrying the team of doctors was being prepared at Delhi\\'s Palam Air Force Base.\\n\\n\\n==== Italy ====\\nItaly provided €465,000 (about $732,282) worth of aid in the form of 30 tons of emergency relief equipment, such as stretchers, generators, and water purifiers in a flight organised by the World Food Program (WFP). The flight arrived in Yangon on 8 May. This was the first aid flight from a Western nation, preceded only by aid from Thailand.In addition to this aid, the Italian government provided €500,000 through the WFP and €500,000 through funding to relief agencies through the UN.  An additional €123,000 was provided through the Red Cross, as well as €300,000 worth of further financing for emergency equipment.\\n\\n\\n==== Malaysia ====\\nMercy Malaysia also trained 180 doctors from the Myanmar Medical Association in Yangon for deployment in the Irrawaddy Delta. RM 1.8 mil was collected for victims of Myanmar\\'s cyclone victims through The Star Myanmar Relief Fund and handed to Mercy Malaysia executive council member Dr Ahmad Faizal Perdaus.  A second Malaysian Red Crescent Society (MRCS) disaster relief team was sent to Myanmar on 21 May 2008.\\n\\n\\n==== Thailand ====\\nThailand sent US$100,000 in supplies, thirty tonnes of medical supplies and twelve tonnes of food supplies from Thai Red Cross. Additionally, Chaiya Sasomsap, Minister of Public Health of Thailand, stated that the Government had already sent medical supplies valued more than one billion baht ($31.3 million) to Myanmar. Furthermore, the Government of Thailand dispatched, upon the permission of the Burmese junta, twenty medical teams and twenty quick communicable disease suppression units. Samak Sundaravej stated that \"if Myanmar gives the green light allowing us to help, our Air Force will provide C-130 aircraft to carry our teams there. This should not be precipitately carried out, it has to have the permission of their government.\" On 7 May 2008, those units, with their subordinate aeroplanes, were permitted to land in Yangon, carrying drinking water and construction material.\\n\\n\\n==== United Kingdom ====\\nOne of the largest sums was donated by the United Kingdom which committed £17 million (approx US$33.5 million).  The UK\\'s Department for International Development sent an international relief team to help with the co-ordination of the international relief effort.  Another team from the same department was also on the ground inside Myanmar.  The Royal Navy dispatched HMS Westminster to the area to assist. This ship was part of the Orion 08 group deployment but was detached on a contingency tasking. This mission was codenamed Operation Songster. Prime Minister Gordon Brown remained extremely critical of the Burmese régime and had not ruled out violating Burmese sovereignty by carrying out \"forced airdrops\" to deliver aid.\\n\\n\\n==== United States ====\\n\\nOn 5 May, US Chargé d\\'affaires in Myanmar Shari Villarosa declared a disaster due to the effects of Cyclone Nargis. In response, the US Agency for International Development (USAID) deployed a Disaster Assistance Response Team (DART) and immediately provided $2 million to UNICEF, WFP, and the Office of the United Nations High Commissioner for Refugees (UNHCR) for emergency food, water and sanitation, and shelter assistance.On 6 May, an additional $3 million from USAID was allocated for the provision of emergency relief assistance, including $1 million to the American Red Cross and $2 million for NGO partners and on 12 May, USAID Administrator Henrietta H. Fore announced $13 million in food aid and logistics assistance through the World Food Programme.From 12 to 20 May, USAID and the US Department of Defense (DOD) coordinated the delivery of nearly $1.2 million of US relief commodities to Rangoon on 185 DOD C-130 flights. The relief supplies would provide assistance to more than 113,000 beneficiaries.  The DOD efforts were under the direction of Joint Task Force Caring Response.As of 26 June 2008, United States assistance had totalled $41,169,769 and continued to be directed by the USAID DART stationed in Thailand.\\n\\n\\n==== Other relief efforts ====\\nOn 15 May, the United Nations Office for the Coordination of Humanitarian Affairs (OCHA) launched the Burmese HIC website. The purpose of the site was to improve information exchange and collaboration between operational agencies responding to Cyclone Nargis. Based in Bangkok, the HIC was providing support to the Humanitarian Partnership Team and other humanitarian partners in Yangon, as well as those based in Bangkok.By 8 May 2008, the Foundation for the People of Burma had a team on the ground in Rangoon and beyond providing direct assistance to thousands of refugees.  Since this organisation was administered by Buddhist volunteers and already had tacit permission from the Burmese government, all donations went directly for supplies.\\n\\nThe International Federation of Red Cross and Red Crescent Societies had pledged $189,000 for relief. The federation had also launched an appeal of a further CHF73.9 million. Red Cross spokesman Matt Cochrane said that cyclone survivors needed everything. They needed emergency shelter to keep them dry, including food supplies. He said stagnant waters were a perfect breeding ground for the malaria mosquito, so insecticide-treated nets were needed. The Red Cross suffered a setback when a boat carrying supplies sank when it hit a submerged tree. Everyone aboard survived, but most of the cargo was lost. Ten Red Cross/Red Crescent relief flights carrying medical and shelter supplies were due to land in Yangon on 12 May.Trocaire has been active in Myanmar since 1995 and were the first Irish aid agency to gain access after Cyclone Nargis. Relief work has been conducted mainly through local partners and membership of the international federation Caritas Internationalis. Trocaire had appealed for the focus of humanitarian work in Myanmar not to be lost in the wake of China\\'s more recent earthquake.Save the Children, one of the few agencies allowed to work in Myanmar, said the toll would likely sharply grow in the next few days as help reached isolated areas. On 18 May, it announced that it believed that thirty thousand children younger than five were already facing malnutrition and could starve in under a month if food did not reach them.Médecins Sans Frontières landed a plane of 40 tons of relief and medical supplies in Rangoon. After clearing customs the supplies were transferred to local MSF warehouses. They have approximately 200 workers in the region, many of whom have been involved in long-term projects there and were already in the region.World Vision launched a US$3 million appeal and sought to get international aid into the country. Staff on the ground were working to distribute food, water and other non-food items while WV Myanmar managers sought approval from the government to work in the worst affected areas and to bring in aid from outside.Local NGOs also responded to the emergency, many adapting from human-rights or women\\'s focuses to humanitarian emergency relief.\\n\\n\\n== Burma controversy ==\\n\\n\\n=== Military junta\\'s blockade of aid ===\\nIn the days after the storm, the junta pursued a CNN reporter covering the effects of the storm.  The reporter was eventually forced to leave the country out of fear of being imprisoned.On 9 May 2008, the junta officially declared that their acceptance of international aid relief would be limited to food, medicines and other supplies as well as financial aid, but would not allow additional foreign aid workers or military units to operate in the country. Samak Sundaravej, Prime Minister of Thailand, stated that, following the request of Eric G. John, US Ambassador to Thailand, he would visit Myanmar on 11 May to urge the junta to open the country. Quinton Quayle, UK Ambassador to Thailand, later remarked that he would also join Sundaravej. However, the junta immediately replied that it was not willing to welcome anyone at this time. Sundaravej said that he would still submit the mediating letter to the junta without delay.The delays had attracted international condemnation. Also, on 9 May in Bangkok, Richard Horsey, spokesperson of the United Nations, urged Myanmar to accept a full scale international relief effort. United Nations Secretary General Ban Ki-moon urged the junta to allow aid in \"without hindrance\". Ban\\'s comments came after the World Food Programme resumed food aid after two shipments of high energy biscuits were stolen by the military. The House of Commons of Canada condemned the Burmese government\\'s response in a resolution passed unanimously on 9 May 2008. Oxfam International\\'s regional chief Sarah Ireland warned that 1.5 million face death if they did not get clean water and sanitation soon: \"It\\'s really crucial that people get access to clean water sources and sanitation to avoid unnecessary deaths and suffering.\" Myanmar\\'s government seemed unaware of the scope of the death and destruction Cyclone Nargis wrought on the country more than a week ago, it was reported 13 May 2008. Some critics were even suggesting genocide since the Burmese government had deliberately denied storm victims aid, allowing for hundreds of thousands to potentially die from starvation, exposure, and disease.On 16 May 2008, the Burmese UN ambassador accused France of deploying a warship to the Burmese coast. The French UN ambassador denied the LHD Mistral was a warship, and claimed Myanmar\\'s refusal to allow increased aid into the country \"could lead to a true crime against humanity.\"  France stated the ship in question was carrying 1,500 tons of relief supplies.  UK Prime Minister Gordon Brown accused the ruling junta of allowing the disaster to grow into a \"man-made catastrophe\" through its failure to act. He also rebuked the junta as being guilty of inhuman actions.On 19 May, Myanmar agreed to allow aid from members of the Association of South-East Asian Nations (ASEAN) to enter. The decision came after an emergency ASEAN summit. The aid would start arriving 21 May. Ban Ki-moon would probably visit the country the same day to \"accelerate relief efforts\". That day, Ban announced that Myanmar was going to \"allow all aid workers regardless of nationality\" to enter, although ships and helicopters were still not expected to be allowed. The announcement came after Ban had met with junta leader General Than Shwe for over two hours. Organizations welcoming the announcement included World Vision, the World Food Programme, and the International Rescue Committee.On 23 May, negotiations between UN Secretary General Ban Ki-Moon and Than Shwe resulted in the opening of Myanmar to aid workers, regardless of nationality. Myanmar\\'s government was still staunchly opposed to the presence of military units in the country, only allowing dedicated relief workers.  On 5 June, a USS Essex-led American carrier group full of aid left the Burmese coast after being denied entry for several weeks, taking its aid back undelivered.On 27 May, to complicate world opinion and in contrast to numerous and varied accounts from international relief organisations, the Burmese junta praised U.N. aid.On 5 June 2008, Amnesty International released a report saying that at least thirty people had been evicted from refugee camps. The report also indicated that the military was horse-trading aid for physical labour.\\n\\n\\n=== Uninterrupted referendum ===\\n\\nDespite objections raised by the Burmese opposition parties and foreign nations in the wake of the natural disaster, the junta proceeded with a previously scheduled (10 May 2008) constitutional referendum. Voting however was postponed until 24 May 2008 in Yangon and other areas hardest hit by the storm.On 8 May 2008, about thirty protesters assembled before Myanmar\\'s embassy in Manila, Philippines, demanding that the junta defer voting on the referendum and immediately accept international relief. The Philippine protesters delivered the statement that \"this time is not the time for politics, but it is the time to save people.\" The United States Government also demanded that the United Nations not endorse the referendum. Aung San Suu Kyi, leader of the Burmese opposition, also stated that holding a vote for the referendum during this disaster would be a consummately unacceptable act.  About 500 Burmese activists demonstrated on 10 May outside their country\\'s embassy in Kuala Lumpur, Malaysia, demanding that Burma\\'s military regime call off its constitutional referendum even as voting began despite a devastating cyclone.In a public poll conducted throughout Myanmar on 9 May 2008 by Mizzima, a Myanmar news agency, 64% of those surveyed still intended to vote in the referendum. However, 71% did not know what the constitution was, and 52% had not yet decided whether they would vote to support or oppose it.\\n\\n\\n=== Aid distribution controversy ===\\nAP news stories stated that foreign aid provided to disaster victims was modified to make it look like it came from the military regime, and state-run television continuously ran images of General Than Shwe ceremonially handing out disaster relief.More than a week after the disaster, only one out of 10 people who were homeless, injured or threatened by disease and hunger had received some kind of aid. More than two weeks later, relief had only reached 25 percent of people in need.Nine days after the cyclone, the military government was still refusing to grant visas and access for aid workers into the area. The UN called for an air or sea corridor to be opened to channel large amounts of aid, and HMS Westminster was sent to the area, alongside French and United States military assets.\\n\\n\\n=== Activists respond to the blockade of aid ===\\nA Facebook.com page called Support the Relief Efforts for Burma (Myanmar) Cyclone Disaster Victims with 10,000 members used its members to organise a Global Day Of Action for Burma on 17 May 2008. with the help of Burma Global Action Network, Burma Campaign UK, Canadian Friends of Burma, the US Campaign for Burma, Info Birmanie, as well as countless local partners, a Global Day of Action for Burma a call for Humanitarian Intervention was held on 17 May 2008, in cities worldwide. An apparent response to the junta\\'s blockade of aid to the Cyclone Nargis victims, the international community called for a humanitarian corridor to get aid into the hardest hit areas of Myanmar.\\n\\n\\n== Records ==\\nNargis set many records for its death toll and its damage. In addition, when Nargis reached Category 4 on the SSHS on 2 May, it marked the only time that a Category 4 storm had formed in this basin for three consecutive years: starting with Mala (2006), going into 2007 with Sidr and Gonu, and ending with Nargis. It was the costliest storm in the Indian Ocean cyclone basin in recorded history at the time; it was eventually surpassed by Cyclone Amphan in 2020.\\nThe exact death toll from Nargis will likely never be known, but it was most likely one of the deadliest tropical cyclones in recorded history, in fact, Nargis is the deadliest tropical cyclone of the 3rd millennium to date.\\n\\n\\n== Private relief ==\\nSeveral international organisations were approved to support relief efforts within the country:\\n\\nAdventist Development and Relief Agency (ADRA) assisted survivors in the severely-affected Irrawaddy Delta by providing food aid, access to water, medical assistance, kitchen kits, and other necessary relief.\\nThe Aidmatrix Foundation provided an online co-ordination portal connecting businesses, groups and individuals wishing to offer products, services, or financial contributions.\\nThe American Jewish World Service provided emergency support to local organisations responding to immediate needs.\\nArchitecture for Humanity provided long-term support for sustainable reconstruction of housing, schools, clinics and other critical infrastructure.\\nGiving Children Hope sent emergency supplies to local partner organisations.\\nCARE had offices in Yangon that were damaged.\\nItalian aid organisation Cesvi operated in over 40 villages in the Dedaye Township.\\nChevron Corporation contributed US$2 million, of which half went to the International Federation of the Red Cross and the other half was allocated to four other organisations: the International Organization for Migration, Mercy Corps, Pact and Save the Children.\\nThe Church World Service worked with the Myanmar Council of Churches on the relief effort.\\nDirect Relief worked with several local partner groups and organisations.\\nDoctors Without Borders/Médecins Sans Frontières had more than 200 aid workers responding on the ground.\\nGlobalGiving had several targeted relief projects with grassroots organisations already in Myanmar, including the International Medical Corps and CHF International.\\nBaptist World Aid operated search, rescue and medical teams, and also prepared humanitarian relief and a special water purification and clean water packing (waterbags) unit.\\nHewlett-Packard Foundation made a donation of US$250,000 via the World Food Programme (WFP).\\nLutheran World Relief worked through the Church World Service.\\nLDS Church delivered several tonnes of food, blankets, and other supplies.\\nLIRNEasia, an Asia Pacific-based telecom think tank made their donations through Lekadhikari of Amarapura nikaya, Sri Lanka.\\nMingalar Foundation, a Myanmar-based NGO, distributed food, clean water, shelter and medicine to 37,000+ unreached people (about 7,000 families) in 9 affected areas everyday, also accepting donations online with the help of Samui Island Hotels (USA/Thailand).\\nMyanmar Red Cross appealed for help and is on the ground.\\nProximity Designs distributed US$17.9 million in aid to 2.49 million people following the storm and continues to help farming families rebuild through cash-for-work infrastructure projects in 214 villages throughout the Irrawaddy Delta.\\nSave the Children is \"one of the largest non-governmental organizations at work in Myanmar\" and has launched a full scale relief effort.\\nSewa International has a network of volunteers and partner organisations active in the affected areas.\\nShelterBox Australian and other Rotary International bodies are assisting. ShelterBoxes started arriving on 10 May.\\nUNICEF is in country and has already provided relief supplies.\\nUnitarian Universalist Service Committee has joined with the Unitarian Universalist Association to launch a humanitarian relief fund to help survivors of the cyclone in Myanmar. The UUSC responds strategically to crises, especially when rights are threatened or when those in need are overlooked or neglected by traditional relief approaches.\\nWorld Relief is working with partners in the Global Relief Alliance to bring vital aid to thousands in desperate need in the aftermath of the storm.\\nWorld Vision has 600 staff on the ground.\\nNargis Action Group Myanmar Egress is currently involved in disaster relief operations in 4 severely damaged townships in the Delta region. In so doing, Myanmar Egress has collaborated with some business companies that have been granted permission by the authorities to undertake in the rescue and relief work in several storm-hit areas in the delta. Myanmar Egress is engaging in all these disaster relief activities under the name of \"Nargis Action Group Myanmar\".\\n\\n\\n=== Impact on rice supplies ===\\nThe Irrawaddy Delta is such a fertile area for rice growing that it was known as the \"rice bowl\" of the British Empire. Production was high enough that Myanmar could feed its citizens a high amount of rice (by the standards of Asia) with enough left over to sell on the market. Since Nargis hit right around harvest, a rice shortage and famine could result. The United Nations\\' Food and Agriculture Organization estimated that Nargis impacted 65% of the country\\'s paddies. They feel that the situation would be \"devastating... if the recent disaster results in severe rice shortages.\" This might exacerbate the crisis already occurring, but it could be partially alleviated if fall and late summer harvests were good. Myanmar had since appealed for aid to assist with getting the rice planted, as its farmers had a 40- to 50-day window of opportunity before the season\\'s crop would be lost.  The Myanmar government estimated losses of US$10 billion because of the cyclone.\\n\\n\\n== Update ==\\nThe UN Human Settlements Programme (UN-HABITAT) reported the extent of the international response to date as less than 7 percent of the actual needs for shelter after 15 months, although emergency shelter relief efforts were well funded. It estimated about 209,000 families had rebuilt their own homes alone over the past year. Out of US$150 million requested for shelter repair and reconstruction under the Post Nargis Recovery Plan (PONREPP) — a three-year recovery strategy running to 2011 — only US$50 million had been received.\\n\\n\\n== See also ==\\n\\nBurma–Thailand relations\\n1970 Bhola cyclone – The deadliest tropical cyclone recorded worldwide\\nCyclone Giri\\nCyclone Mala\\nCyclone Komen\\nCyclone Mora\\nList of tropical cyclones\\nList of natural disasters by death toll\\nTimeline of the 2008 North Indian Ocean cyclone season\\nTropical cyclones in Myanmar\\n\\n\\n== References ==\\n\\n\\n== Further reading ==\\nLarkin, Emma (2010). Everything is Broken: the Untold Story of Disaster under Burma\\'s Military Regime. Granta.\\n\\n\\n== External links ==\\nDamage information from BBC\\nGoogle Map: Path of Cyclone Nargis\\nRed Cross – Red Cross Movement response to Cyclone Nargis\\n\"Eyes of the Storm\" Full episode of PBS documentary on orphans of Cyclone Nargis fending for themselves.'"
      ]
     },
     "execution_count": 166,
     "metadata": {},
     "output_type": "execute_result"
    }
   ],
   "source": [
    "cyclone_details('01b')"
   ]
  },
  {
   "cell_type": "code",
   "execution_count": 170,
   "id": "4ddc6c9e-e59b-4b67-b70d-85ec4afeb948",
   "metadata": {
    "collapsed": true,
    "jupyter": {
     "outputs_hidden": true
    },
    "tags": []
   },
   "outputs": [
    {
     "name": "stdout",
     "output_type": "stream",
     "text": [
      "Cyclone Debbie\n",
      "Link: https://en.wikipedia.org/wiki/Cyclone_Debbie\n",
      "\n",
      "SUMMARY:\n",
      "Severe Tropical Cyclone Debbie in 2017 was the strongest tropical cyclone to strike Queensland since Marcia in 2015, and was the costliest tropical cyclone in Australia since Yasi in 2011. Forming as a tropical low on 23 March, the low gradually intensified into a named tropical cyclone on 25 March. After steadily strengthening offshore to a Category 4 system, Debbie eventually made landfall near Airlie Beach, at 12:40 AEST on 28 March. Afterwards, Debbie rapidly weakened into a tropical low by late 28 March, but continued to travel south, causing significant damage and flooding in the populous areas of South East Queensland and Northern Rivers. In total, the storm caused A$3.5 billion (US$2.67 billion) in damage and fourteen deaths across Australia, primarily as a result of extreme flooding. This makes Debbie the deadliest cyclone to hit Australia since Fifi in 1991.\n",
      "\n",
      "\n",
      "== Meteorological history ==\n",
      "\n",
      "On 22 March 2017, a well-defined but weak area of low pressure developed over the Coral Sea, near the Louisiade Archipelago of Papua New Guinea. Strong wind shear aloft kept the accompanying convection poorly organised and displaced west of the surface circulation. With environmental conditions forecast to improve and favour cyclogenesis, the Australian Bureau of Meteorology's (BOM) Tropical Cyclone Warning Centre in Brisbane classified the system as a tropical low on 23 March. Throughout the following day, decreasing shear enabled convection to wrap around the low; however, convective activity remained largely transient.\n",
      "\n",
      "Full Content:\n",
      "Severe Tropical Cyclone Debbie in 2017 was the strongest tropical cyclone to strike Queensland since Marcia in 2015, and was the costliest tropical cyclone in Australia since Yasi in 2011. Forming as a tropical low on 23 March, the low gradually intensified into a named tropical cyclone on 25 March. After steadily strengthening offshore to a Category 4 system, Debbie eventually made landfall near Airlie Beach, at 12:40 AEST on 28 March. Afterwards, Debbie rapidly weakened into a tropical low by late 28 March, but continued to travel south, causing significant damage and flooding in the populous areas of South East Queensland and Northern Rivers. In total, the storm caused A$3.5 billion (US$2.67 billion) in damage and fourteen deaths across Australia, primarily as a result of extreme flooding. This makes Debbie the deadliest cyclone to hit Australia since Fifi in 1991.\n",
      "\n",
      "\n",
      "== Meteorological history ==\n",
      "\n",
      "On 22 March 2017, a well-defined but weak area of low pressure developed over the Coral Sea, near the Louisiade Archipelago of Papua New Guinea. Strong wind shear aloft kept the accompanying convection poorly organised and displaced west of the surface circulation. With environmental conditions forecast to improve and favour cyclogenesis, the Australian Bureau of Meteorology's (BOM) Tropical Cyclone Warning Centre in Brisbane classified the system as a tropical low on 23 March. Throughout the following day, decreasing shear enabled convection to wrap around the low; however, convective activity remained largely transient. A mid-level ridge to the east and an approaching trough over the Tasman Sea steered the low generally south. High sea surface temperatures of 29–30 °C (84–86 °F) and excellent dual-channel outflow fuelled rapid consolidation on 24 March. This prompted the United States-based Joint Typhoon Warning Center (JTWC) to issue a Tropical Cyclone Formation Alert, indicating the system was likely to acquire gale-force winds within 24 hours.A scatterometer pass at 11:56 UTC revealed surface winds of up to 75 km/h (45 mph) and subsequent satellite intensity estimates supported gale-intensity, and the JTWC accordingly classified the system as Tropical Cyclone 13P by 21:00 UTC. With exceptionally favourable environmental conditions ahead of the storm, the agency noted a high probability for rapid deepening before landfall in Queensland. The BOM followed suit soon thereafter, classifying the system as a Category 1 tropical cyclone on the Australian cyclone intensity scale at 00:00 UTC on 25 March. Concurrently, they assigned it the name Debbie.The cyclone continued to track generally southwards, developing into a Category 2 cyclone later that day. After attaining that strength, Debbie assumed a generally southwestwards track—a track it would maintain, with minor fluctuations, until about 14 hours after landfall. After a day-long period of arrested development, environmental conditions became highly favourable for renewed intensification. Beginning early on 27 March, Debbie strengthened rapidly from Category 2 to a Category 4 severe tropical cyclone in just 12 hours, and achieving peak sustained winds of 175 km/h (110 mph) and a minimum pressure of 949 hPa (28.02 inHg). After that, the Dvorak intensity given that the storm weakened slightly. Debbie passed over the Whitsunday Islands in the morning of 28 March local time with winds of 165 km/h (105 mph), still at Category 4 intensity. Nonetheless, the cyclone weakened to Category 3 before making landfall in Airlie Beach at 02:40 UTC with winds of 150 km/h (90 mph).Following landfall, Debbie began to weaken steadily while interacting with North Queensland's rugged terrain. The cyclone weakened below severe tropical cyclone status while passing Collinsville at 12:00 UTC on 28 March. The system was downgraded to Category 1 in the early hours of 29 March local time, and then weakened further to a tropical low six few hours afterwards. The tropical low then executed a long turn to the southeast, and proceeded towards South East Queensland, moving roughly parallel to the coast. The remnants of Debbie brought heavy rainfall—torrential rains in many areas—that resulted in flooding in large parts of the land areas across which it tracked, before moving out over the Pacific Ocean on Friday 31 March.\n",
      "\n",
      "\n",
      "== Preparations ==\n",
      "\n",
      "Major storm surge was seen as one of the most dangerous factors associated with the approaching cyclone. With the storm potentially coinciding with high tide, it was estimated that water rise in some areas could potentially exceed 7 m (23 ft). Residents in low-lying areas across Bowen, Proserpine and Airlie Beach were ordered to evacuate their homes. Late on 27 March, just over 12 hours prior to landfall, 25,000 residents in low-lying areas of Mackay were ordered to evacuate. Approximately 5,500 people in the Bowen area were also urged to leave. Across Queensland, more than 400 schools and education centres were closed. All flights at Townsville Airport, Proserpine/Whitsunday Coast Airport, Mackay Airport, Hamilton Island Airport and Moranbah Airport were cancelled from 27 March, and Queensland Rail suspended train services between Rockhampton and Townsville. North Queensland Bulk Ports closed the ports at Mackay, Abbot Point and Hay Point. A total of 1,000 emergency personnel and more than 200 Energex workers were deployed to the region to assist with Ergon Energy's preparations and clean up operations.The Australian Defence Force formed Joint Task Force 661, dubbed \"Operation Queensland Assist\", to provide assistance with aeromedical evacuation, search and rescue, road clearance, restoration of essential services, emergency accommodation and the delivery of stores if required. The Royal Australian Navy landing ship HMAS Choules set sail from Sydney to Queensland to support post-storm recovery. Normally, HMAS Canberra and HMAS Adelaide would be deployed; however, propulsion issues with the two vessels kept them docked for repairs. Three MRH-90 helicopters from HMAS Albatross were also deployed to Queensland. The Royal Australian Air Force put transport aircraft on standby at Townsville, RAAF Base Amberley and RAAF Base Darwin. The Australian Defence Force's pre-deployment of resources was the largest in the nation's history in advance of a natural disaster; approximately 1,200 personnel were deployed.\n",
      "\n",
      "\n",
      "=== Media criticism ===\n",
      "There was criticism of the intense coverage of the cyclone by commercial TV media, including some unsafe actions by reporters. Former Deputy Leader of Australian Greens, Adam Bandt, was criticised by the conservative government's Federal Energy Minister for suggesting that construction of new coal plants would cause climate change, and hence increase the intensity of extreme weather events like Cyclone Debbie.\n",
      "\n",
      "\n",
      "== Impact ==\n",
      "\n",
      "\n",
      "=== Queensland ===\n",
      "An unexpected turn to the south during the cyclone's final approach to the Queensland coast brought the storm directly on top of Hamilton Island, where no evacuations took place. Damage was reported on the Whitsunday Islands, as strong winds lifted some roofs from houses; on Hamilton Island, sustained winds reached 191 km/h (119 mph) with gusts up to 263 km/h (163 mph) around 10:28 a.m. local time on 28 March. Winds in excess of 100 km/h (62 mph) battered the island for more than 24 hours. Power outages affected at least 63,000 properties across Queensland, and numerous trees were uprooted during the storm, with some crashing onto homes. Major damage was reported across Bowen, where most homes had been built before stricter building codes were enforced. Approximately 300 people, primarily tourists, on Daydream Island were left stranded and in dire need of supplies. Attempts were made to evacuate residents from the island; however, ships were unable to dock as the jetty was destroyed.\n",
      "\n",
      "A flock of cockatoos was caught in the storm near Airlie Beach, and many died while clinging to tree branches. One particular bird, later nicknamed Debbie, was found stripped of its feathers by Townsville Bulletin photographer Alix Sweeney and rescued as the cyclone's eye passed through. The story of Debbie became a viral headline. Although seemingly in good spirits once the storm cleared, the bird died during the overnight of 29–30 March likely due to internal injuries.Inclement weather and evacuations associated with the cyclone were blamed for a fatal car accident near Proserpine on 27 March, where one person died on-scene whilst two others were hospitalised. A man in Proserpine also suffered an injury and was hospitalised after a wall collapsed on him on 28 March.Torrential rains—described by the BOM as \"phenomenal\"—affected large portions of Queensland, particularly in the Pioneer Basin. Forty-eight-hour accumulations in the area exceeded 1,000 mm (39 in)—these areas see an average of 1,500 to 2,000 mm (59 to 79 in) of rain per year. West of Mackay, the Kinchant and Middle Creek dams overflowed, prompting additional evacuation of residents. Multiple sections of the Bruce Highway between Townsville and Mackay were submerged by floodwaters, prompting its closure. The ex-tropical cyclone went on to cause damage further south, particularly around the Logan and Albert Rivers, flooding infrastructure such as the Beenleigh railway station and resulting in the death of a 77-year-old man in Eagleby.Damage to Queensland's sugar industry is expected to cost A$150 million (US$114.5 million). The majority of these costs lie in Proserpine and Mackay. 35% of all sugarcane in the Proserpine region and 20% of all sugarcane in the Mackay region were damaged, costing A$50 million (US$38.2 million) and A$81 million (US$61.8 million) respectively. Damage to winter crops in the Bowen–Gumlu region reached A$100 million (US$76.4 million). Insured losses across Australia reached A$1.65 billion (US$1.26 billion), with 73,000 damage claims being filed. Total economic losses reached A$3.5 billion (US$2.67 billion). In addition, a total of eight deaths were reported throughout Queensland.\n",
      "\n",
      "\n",
      "=== New South Wales ===\n",
      "\n",
      "Ex-Tropical Cyclone Debbie continued to move south and merged with a cold front moving up the north coast of New South Wales. This triggered heavy rainfall in the Northern Rivers and led to significant flooding in the Tweed, Lismore, Byron, Richmond Valley, Kyogle and Ballina local government areas. A woman drowned in floodwaters at a rural property south of Murwillumbah, while the Pacific Motorway was cut off by floodwaters at Chinderah. New South Wales Premier Gladys Berejiklian declared the regions as disaster zones, thus enabling the residents to access disaster assistance funding. Two more people were confirmed to have drowned in floodwaters on 1 April, another south of Murwillumbah and one at Gungal.On 3 April, a mother and two of her children drowned when their car plunged into the flooded Tweed River at Tumbulgum. In total, Debbie killed six people in New South Wales.\n",
      "\n",
      "\n",
      "=== New Zealand ===\n",
      "A week after becoming extratropical, the remnants of Cyclone Debbie passed over New Zealand, causing flash flooding over many areas. The township of Edgecumbe in the Bay of Plenty region was evacuated on April 6 due to flooding, and a state of emergency declared. The insurance claims reached NZ$91.5 million (US$63.8 million).\n",
      "\n",
      "\n",
      "== Aftermath ==\n",
      "Queensland Premier Annastacia Palaszczuk pledged A$1,000,000 (US$754,205) to assist the Australian Red Cross Society, Salvation Army, St. Vincent de Paul Society of Queensland, and UnitingCare Community in distributing supplies.Debbie was the only name from the 2016–2017 season to be retired by the Bureau of Meteorology, It was replaced by Dara in mid-2018.\n",
      "\n",
      "\n",
      "== See also ==\n",
      "\n",
      "Weather of 2016 and 2017\n",
      "Tropical cyclones in 2016 and 2017\n",
      "Cyclone Larry\n",
      "Cyclone Ului\n",
      "Cyclone Ita\n",
      "Cyclone Marcia\n",
      "Cyclone Yasi\n",
      "\n",
      "\n",
      "== References ==\n",
      "\n",
      "\n",
      "== External links ==\n",
      "Australian Bureau of Meteorology\n"
     ]
    }
   ],
   "source": [
    " details = cyclone_details('Queensland Cyclone')"
   ]
  },
  {
   "cell_type": "code",
   "execution_count": 122,
   "id": "68994b1c-881a-420f-8466-0f2fa019608e",
   "metadata": {
    "collapsed": true,
    "jupyter": {
     "outputs_hidden": true
    },
    "tags": []
   },
   "outputs": [
    {
     "name": "stdout",
     "output_type": "stream",
     "text": [
      "Collecting sentence-transformers\n",
      "  Downloading sentence-transformers-2.1.0.tar.gz (78 kB)\n",
      "\u001b[K     |████████████████████████████████| 78 kB 2.5 MB/s eta 0:00:01\n",
      "\u001b[?25hCollecting transformers<5.0.0,>=4.6.0\n",
      "  Downloading transformers-4.16.2-py3-none-any.whl (3.5 MB)\n",
      "\u001b[K     |████████████████████████████████| 3.5 MB 9.1 MB/s eta 0:00:01\n",
      "\u001b[?25hCollecting tokenizers>=0.10.3\n",
      "  Downloading tokenizers-0.11.4-cp39-cp39-manylinux_2_12_x86_64.manylinux2010_x86_64.whl (6.8 MB)\n",
      "\u001b[K     |████████████████████████████████| 6.8 MB 86.8 MB/s eta 0:00:01\n",
      "\u001b[?25hRequirement already satisfied: tqdm in /home/studio-lab-user/.conda/envs/default/lib/python3.9/site-packages (from sentence-transformers) (4.62.3)\n",
      "Collecting torch>=1.6.0\n",
      "  Downloading torch-1.10.2-cp39-cp39-manylinux1_x86_64.whl (881.9 MB)\n",
      "\u001b[K     |█████████████▋                  | 375.8 MB 111.0 MB/s eta 0:00:05              | 194.9 MB 122.0 MB/s eta 0:00:06"
     ]
    },
    {
     "name": "stderr",
     "output_type": "stream",
     "text": [
      "IOPub data rate exceeded.\n",
      "The Jupyter server will temporarily stop sending output\n",
      "to the client in order to avoid crashing it.\n",
      "To change this limit, set the config variable\n",
      "`--ServerApp.iopub_data_rate_limit`.\n",
      "\n",
      "Current values:\n",
      "ServerApp.iopub_data_rate_limit=1000000.0 (bytes/sec)\n",
      "ServerApp.rate_limit_window=3.0 (secs)\n",
      "\n"
     ]
    },
    {
     "name": "stdout",
     "output_type": "stream",
     "text": [
      "\u001b[K     |████████████████████████▉       | 684.7 MB 82.0 MB/s eta 0:00:033"
     ]
    },
    {
     "name": "stderr",
     "output_type": "stream",
     "text": [
      "IOPub data rate exceeded.\n",
      "The Jupyter server will temporarily stop sending output\n",
      "to the client in order to avoid crashing it.\n",
      "To change this limit, set the config variable\n",
      "`--ServerApp.iopub_data_rate_limit`.\n",
      "\n",
      "Current values:\n",
      "ServerApp.iopub_data_rate_limit=1000000.0 (bytes/sec)\n",
      "ServerApp.rate_limit_window=3.0 (secs)\n",
      "\n"
     ]
    },
    {
     "name": "stdout",
     "output_type": "stream",
     "text": [
      "\u001b[K     |████████████████████████████████| 881.9 MB 10 kB/s /s eta 0:00:01\n",
      "\u001b[?25hCollecting torchvision\n",
      "  Downloading torchvision-0.11.3-cp39-cp39-manylinux1_x86_64.whl (23.2 MB)\n",
      "\u001b[K     |████████████████████████████████| 23.2 MB 40.3 MB/s eta 0:00:01\n",
      "\u001b[?25hRequirement already satisfied: numpy in /home/studio-lab-user/.conda/envs/default/lib/python3.9/site-packages (from sentence-transformers) (1.22.1)\n",
      "Collecting scikit-learn\n",
      "  Downloading scikit_learn-1.0.2-cp39-cp39-manylinux_2_17_x86_64.manylinux2014_x86_64.whl (26.4 MB)\n",
      "\u001b[K     |████████████████████████████████| 26.4 MB 37.4 MB/s eta 0:00:01\n",
      "\u001b[?25hRequirement already satisfied: scipy in /home/studio-lab-user/.conda/envs/default/lib/python3.9/site-packages (from sentence-transformers) (1.7.3)\n",
      "Requirement already satisfied: nltk in /home/studio-lab-user/.conda/envs/default/lib/python3.9/site-packages (from sentence-transformers) (3.6.7)\n",
      "Collecting sentencepiece\n",
      "  Downloading sentencepiece-0.1.96-cp39-cp39-manylinux_2_17_x86_64.manylinux2014_x86_64.whl (1.2 MB)\n",
      "\u001b[K     |████████████████████████████████| 1.2 MB 56.3 MB/s eta 0:00:01\n",
      "\u001b[?25hCollecting huggingface-hub\n",
      "  Downloading huggingface_hub-0.4.0-py3-none-any.whl (67 kB)\n",
      "\u001b[K     |████████████████████████████████| 67 kB 13.4 MB/s eta 0:00:01\n",
      "\u001b[?25hRequirement already satisfied: typing-extensions in /home/studio-lab-user/.conda/envs/default/lib/python3.9/site-packages (from torch>=1.6.0->sentence-transformers) (4.0.1)\n",
      "Requirement already satisfied: requests in /home/studio-lab-user/.conda/envs/default/lib/python3.9/site-packages (from transformers<5.0.0,>=4.6.0->sentence-transformers) (2.27.1)\n",
      "Requirement already satisfied: packaging>=20.0 in /home/studio-lab-user/.conda/envs/default/lib/python3.9/site-packages (from transformers<5.0.0,>=4.6.0->sentence-transformers) (21.3)\n",
      "Collecting filelock\n",
      "  Downloading filelock-3.4.2-py3-none-any.whl (9.9 kB)\n",
      "Collecting sacremoses\n",
      "  Downloading sacremoses-0.0.47-py2.py3-none-any.whl (895 kB)\n",
      "\u001b[K     |████████████████████████████████| 895 kB 65.5 MB/s eta 0:00:01\n",
      "\u001b[?25hCollecting pyyaml>=5.1\n",
      "  Downloading PyYAML-6.0-cp39-cp39-manylinux_2_5_x86_64.manylinux1_x86_64.manylinux_2_12_x86_64.manylinux2010_x86_64.whl (661 kB)\n",
      "\u001b[K     |████████████████████████████████| 661 kB 42.5 MB/s eta 0:00:01\n",
      "\u001b[?25hRequirement already satisfied: regex!=2019.12.17 in /home/studio-lab-user/.conda/envs/default/lib/python3.9/site-packages (from transformers<5.0.0,>=4.6.0->sentence-transformers) (2022.1.18)\n",
      "Requirement already satisfied: pyparsing!=3.0.5,>=2.0.2 in /home/studio-lab-user/.conda/envs/default/lib/python3.9/site-packages (from packaging>=20.0->transformers<5.0.0,>=4.6.0->sentence-transformers) (3.0.6)\n",
      "Requirement already satisfied: joblib in /home/studio-lab-user/.conda/envs/default/lib/python3.9/site-packages (from nltk->sentence-transformers) (1.1.0)\n",
      "Requirement already satisfied: click in /home/studio-lab-user/.conda/envs/default/lib/python3.9/site-packages (from nltk->sentence-transformers) (8.0.3)\n",
      "Requirement already satisfied: certifi>=2017.4.17 in /home/studio-lab-user/.conda/envs/default/lib/python3.9/site-packages (from requests->transformers<5.0.0,>=4.6.0->sentence-transformers) (2021.10.8)\n",
      "Requirement already satisfied: charset-normalizer~=2.0.0 in /home/studio-lab-user/.conda/envs/default/lib/python3.9/site-packages (from requests->transformers<5.0.0,>=4.6.0->sentence-transformers) (2.0.10)\n",
      "Requirement already satisfied: idna<4,>=2.5 in /home/studio-lab-user/.conda/envs/default/lib/python3.9/site-packages (from requests->transformers<5.0.0,>=4.6.0->sentence-transformers) (3.3)\n",
      "Requirement already satisfied: urllib3<1.27,>=1.21.1 in /home/studio-lab-user/.conda/envs/default/lib/python3.9/site-packages (from requests->transformers<5.0.0,>=4.6.0->sentence-transformers) (1.26.8)\n",
      "Requirement already satisfied: six in /home/studio-lab-user/.conda/envs/default/lib/python3.9/site-packages (from sacremoses->transformers<5.0.0,>=4.6.0->sentence-transformers) (1.16.0)\n",
      "Collecting threadpoolctl>=2.0.0\n",
      "  Downloading threadpoolctl-3.1.0-py3-none-any.whl (14 kB)\n",
      "Requirement already satisfied: pillow!=8.3.0,>=5.3.0 in /home/studio-lab-user/.conda/envs/default/lib/python3.9/site-packages (from torchvision->sentence-transformers) (9.0.0)\n",
      "Building wheels for collected packages: sentence-transformers\n",
      "  Building wheel for sentence-transformers (setup.py) ... \u001b[?25ldone\n",
      "\u001b[?25h  Created wheel for sentence-transformers: filename=sentence_transformers-2.1.0-py3-none-any.whl size=121000 sha256=ea67f27614e41a3c07a0700da7b6a19346931a1b8295754b5bd80665814b18d6\n",
      "  Stored in directory: /home/studio-lab-user/.cache/pip/wheels/17/1d/fd/a16123b417c527e0452c3e10ae5139cd2ab2f6fee93e892441\n",
      "Successfully built sentence-transformers\n",
      "Installing collected packages: pyyaml, filelock, torch, tokenizers, threadpoolctl, sacremoses, huggingface-hub, transformers, torchvision, sentencepiece, scikit-learn, sentence-transformers\n",
      "Successfully installed filelock-3.4.2 huggingface-hub-0.4.0 pyyaml-6.0 sacremoses-0.0.47 scikit-learn-1.0.2 sentence-transformers-2.1.0 sentencepiece-0.1.96 threadpoolctl-3.1.0 tokenizers-0.11.4 torch-1.10.2 torchvision-0.11.3 transformers-4.16.2\n",
      "Note: you may need to restart the kernel to use updated packages.\n"
     ]
    }
   ],
   "source": [
    "%pip install sentence-transformers"
   ]
  },
  {
   "cell_type": "code",
   "execution_count": 123,
   "id": "c0486e7a-2402-4bb0-b96c-29d7e7707a6d",
   "metadata": {},
   "outputs": [],
   "source": [
    "from sentence_transformers import SentenceTransformer, util"
   ]
  },
  {
   "cell_type": "code",
   "execution_count": 124,
   "id": "b9309832-ae06-431c-b508-5e7f190ac3a9",
   "metadata": {},
   "outputs": [
    {
     "data": {
      "application/vnd.jupyter.widget-view+json": {
       "model_id": "8381b57844a34a36986f22ae6c9cea96",
       "version_major": 2,
       "version_minor": 0
      },
      "text/plain": [
       "Downloading:   0%|          | 0.00/690 [00:00<?, ?B/s]"
      ]
     },
     "metadata": {},
     "output_type": "display_data"
    },
    {
     "data": {
      "application/vnd.jupyter.widget-view+json": {
       "model_id": "384c509e82434b8984295bbbe1a40028",
       "version_major": 2,
       "version_minor": 0
      },
      "text/plain": [
       "Downloading:   0%|          | 0.00/3.95k [00:00<?, ?B/s]"
      ]
     },
     "metadata": {},
     "output_type": "display_data"
    },
    {
     "data": {
      "application/vnd.jupyter.widget-view+json": {
       "model_id": "3cf2ee801a7d461f97e00a25dd94cf50",
       "version_major": 2,
       "version_minor": 0
      },
      "text/plain": [
       "Downloading:   0%|          | 0.00/548 [00:00<?, ?B/s]"
      ]
     },
     "metadata": {},
     "output_type": "display_data"
    },
    {
     "data": {
      "application/vnd.jupyter.widget-view+json": {
       "model_id": "67d8850c3bc943e09c0ba6a6707e0b6c",
       "version_major": 2,
       "version_minor": 0
      },
      "text/plain": [
       "Downloading:   0%|          | 0.00/122 [00:00<?, ?B/s]"
      ]
     },
     "metadata": {},
     "output_type": "display_data"
    },
    {
     "data": {
      "application/vnd.jupyter.widget-view+json": {
       "model_id": "810017621edf4a6ca77dff323bd5f209",
       "version_major": 2,
       "version_minor": 0
      },
      "text/plain": [
       "Downloading:   0%|          | 0.00/229 [00:00<?, ?B/s]"
      ]
     },
     "metadata": {},
     "output_type": "display_data"
    },
    {
     "data": {
      "application/vnd.jupyter.widget-view+json": {
       "model_id": "5554b0ed3a5748e586dccd064ad104d0",
       "version_major": 2,
       "version_minor": 0
      },
      "text/plain": [
       "Downloading:   0%|          | 0.00/265M [00:00<?, ?B/s]"
      ]
     },
     "metadata": {},
     "output_type": "display_data"
    },
    {
     "data": {
      "application/vnd.jupyter.widget-view+json": {
       "model_id": "22d3e0c647e446c2a43484e6231c2601",
       "version_major": 2,
       "version_minor": 0
      },
      "text/plain": [
       "Downloading:   0%|          | 0.00/53.0 [00:00<?, ?B/s]"
      ]
     },
     "metadata": {},
     "output_type": "display_data"
    },
    {
     "data": {
      "application/vnd.jupyter.widget-view+json": {
       "model_id": "b259dc2fe5f94223bb97775d5974b688",
       "version_major": 2,
       "version_minor": 0
      },
      "text/plain": [
       "Downloading:   0%|          | 0.00/112 [00:00<?, ?B/s]"
      ]
     },
     "metadata": {},
     "output_type": "display_data"
    },
    {
     "data": {
      "application/vnd.jupyter.widget-view+json": {
       "model_id": "577b9c6698a44ecfa2368e39d564dab2",
       "version_major": 2,
       "version_minor": 0
      },
      "text/plain": [
       "Downloading:   0%|          | 0.00/466k [00:00<?, ?B/s]"
      ]
     },
     "metadata": {},
     "output_type": "display_data"
    },
    {
     "data": {
      "application/vnd.jupyter.widget-view+json": {
       "model_id": "cc56a988640240b7aaf2d52adeb71663",
       "version_major": 2,
       "version_minor": 0
      },
      "text/plain": [
       "Downloading:   0%|          | 0.00/547 [00:00<?, ?B/s]"
      ]
     },
     "metadata": {},
     "output_type": "display_data"
    },
    {
     "data": {
      "application/vnd.jupyter.widget-view+json": {
       "model_id": "b9ef4770126247c486b5ce0cda260100",
       "version_major": 2,
       "version_minor": 0
      },
      "text/plain": [
       "Downloading:   0%|          | 0.00/232k [00:00<?, ?B/s]"
      ]
     },
     "metadata": {},
     "output_type": "display_data"
    },
    {
     "data": {
      "application/vnd.jupyter.widget-view+json": {
       "model_id": "861494cdf7a74bf0bccf58e7e471bcf1",
       "version_major": 2,
       "version_minor": 0
      },
      "text/plain": [
       "Downloading:   0%|          | 0.00/190 [00:00<?, ?B/s]"
      ]
     },
     "metadata": {},
     "output_type": "display_data"
    }
   ],
   "source": [
    "embedder =  SentenceTransformer('msmarco-distilbert-base-tas-b')"
   ]
  },
  {
   "cell_type": "code",
   "execution_count": 128,
   "id": "25ba0ec8-2a69-400f-bb26-448cd9d96c84",
   "metadata": {},
   "outputs": [],
   "source": [
    "# Store model for future use\n",
    "import pickle\n",
    "with open(\"sentence_model.pkl\",\"wb\") as pickle_file:\n",
    "    pickle.dump(embedder, pickle_file)"
   ]
  },
  {
   "cell_type": "code",
   "execution_count": 130,
   "id": "e2acd46b-7a33-4518-9de7-4a2d721b51ae",
   "metadata": {},
   "outputs": [],
   "source": [
    "# Load model if saved\n",
    "with open(\"sentence_model.pkl\",\"rb\") as pickle_file:\n",
    "    embedder = pickle.load(pickle_file)\t"
   ]
  },
  {
   "cell_type": "code",
   "execution_count": 174,
   "id": "f1dfaa09-9850-4bbd-a355-26373e37b2ad",
   "metadata": {},
   "outputs": [
    {
     "name": "stdin",
     "output_type": "stream",
     "text": [
      " What steps were taken against it\n"
     ]
    },
    {
     "name": "stdout",
     "output_type": "stream",
     "text": [
      " Attempts were made to evacuate residents from the island; however, ships were unable to dock as the jetty was destroyed (Score: 0.7038)\n",
      " Major damage was reported across Bowen, where most homes had been built before stricter building codes were enforced (Score: 0.6961)\n",
      " Approximately 5,500 people in the Bowen area were also urged to leave (Score: 0.6929)\n",
      "26 billion), with 73,000 damage claims being filed (Score: 0.6821)\n",
      " Residents in low-lying areas across Bowen, Proserpine and Airlie Beach were ordered to evacuate their homes (Score: 0.6768)\n"
     ]
    }
   ],
   "source": [
    "query = input()\n",
    "query_embedding = embedder.encode(query)\n",
    "passage = details.split('.')\n",
    "passage_embeddings = embedder.encode(passage)\n",
    "hits = util.semantic_search(query_embedding, passage_embeddings, top_k=5)\n",
    "for hit in hits[0]:\n",
    "    print(passage[hit['corpus_id']], \"(Score: {:.4f})\".format(hit['score']))"
   ]
  }
 ],
 "metadata": {
  "kernelspec": {
   "display_name": "default:Python",
   "language": "python",
   "name": "conda-env-default-py"
  },
  "language_info": {
   "codemirror_mode": {
    "name": "ipython",
    "version": 3
   },
   "file_extension": ".py",
   "mimetype": "text/x-python",
   "name": "python",
   "nbconvert_exporter": "python",
   "pygments_lexer": "ipython3",
   "version": "3.9.7"
  }
 },
 "nbformat": 4,
 "nbformat_minor": 5
}
